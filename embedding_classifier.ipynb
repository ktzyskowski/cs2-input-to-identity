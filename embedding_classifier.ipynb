{
 "cells": [
  {
   "cell_type": "code",
   "id": "initial_id",
   "metadata": {
    "collapsed": true,
    "ExecuteTime": {
     "end_time": "2025-03-11T19:55:33.112254Z",
     "start_time": "2025-03-11T19:55:33.109252Z"
    }
   },
   "source": [
    "import numpy as np\n",
    "\n",
    "embeddings = np.load(\"./res/embeddings/embeddings.npy\")\n",
    "labels = np.load(\"./res/embeddings/labels.npy\")\n",
    "\n",
    "n_samples, n_dims = embeddings.shape\n",
    "print(\"num_samples:\", n_samples)\n",
    "print(\"n_dims:     \", n_dims)"
   ],
   "outputs": [
    {
     "name": "stdout",
     "output_type": "stream",
     "text": [
      "num_samples: 3955\n",
      "n_dims:      128\n"
     ]
    }
   ],
   "execution_count": 18
  },
  {
   "metadata": {
    "ExecuteTime": {
     "end_time": "2025-03-11T19:55:38.654120Z",
     "start_time": "2025-03-11T19:55:38.651026Z"
    }
   },
   "cell_type": "code",
   "source": [
    "from sklearn.model_selection import train_test_split\n",
    "\n",
    "player_ids = np.unique(labels)\n",
    "player_ids_train, player_ids_excluded = train_test_split(player_ids, test_size=0.1, random_state=410)\n",
    "\n",
    "print(\"num_players:        \", len(player_ids))\n",
    "print(\"num_players [train]:\", len(player_ids_train))\n",
    "print(\"num_players [excl.]:\", len(player_ids_excluded))"
   ],
   "id": "ff679b14b0ab509b",
   "outputs": [
    {
     "name": "stdout",
     "output_type": "stream",
     "text": [
      "num_players:         84\n",
      "num_players [train]: 75\n",
      "num_players [excl.]: 9\n"
     ]
    }
   ],
   "execution_count": 19
  },
  {
   "metadata": {
    "ExecuteTime": {
     "end_time": "2025-03-11T20:06:03.148213Z",
     "start_time": "2025-03-11T20:06:03.143504Z"
    }
   },
   "cell_type": "code",
   "source": [
    "embeddings_train = embeddings[np.isin(labels, player_ids_train)]\n",
    "labels_train = labels[np.isin(labels, player_ids_train)]\n",
    "print(\"embeddings [train]:\", embeddings_train.shape)\n",
    "\n",
    "embeddings_excluded = embeddings[np.isin(labels, player_ids_excluded)]\n",
    "labels_excluded = labels[np.isin(labels, player_ids_excluded)]\n",
    "print(\"embeddings [excl.]:\", embeddings_excluded.shape)"
   ],
   "id": "7cb2a1e351c5b3a0",
   "outputs": [
    {
     "name": "stdout",
     "output_type": "stream",
     "text": [
      "embeddings [train]: (3538, 128)\n",
      "embeddings [excl.]: (417, 128)\n"
     ]
    }
   ],
   "execution_count": 24
  },
  {
   "metadata": {
    "ExecuteTime": {
     "end_time": "2025-03-11T20:24:44.554936Z",
     "start_time": "2025-03-11T20:24:44.551189Z"
    }
   },
   "cell_type": "code",
   "source": [
    "def generate_pair_samples(source_embeddings: np.ndarray, source_player_ids: np.ndarray, n: int, random_seed: int = 410):\n",
    "    x = []\n",
    "    y = []\n",
    "    rng = np.random.default_rng(seed=410)\n",
    "    for _ in range(n):\n",
    "        if rng.random() < 0.5:\n",
    "            # positive class\n",
    "            player_id = rng.choice(source_player_ids)\n",
    "            left, right = rng.choice(source_embeddings[source_player_ids == player_id], size=2, replace=False)\n",
    "            y.append(1)\n",
    "        else:\n",
    "            # negative class\n",
    "            player_id_left, player_id_right = rng.choice(source_player_ids, size=2, replace=False)\n",
    "            left = rng.choice(source_embeddings[source_player_ids == player_id_left])\n",
    "            right = rng.choice(source_embeddings[source_player_ids == player_id_right])\n",
    "            y.append(0)\n",
    "        x.append(np.concatenate((left, right), axis=0))\n",
    "    x = np.array(x)\n",
    "    y = np.array(y)\n",
    "    return x, y"
   ],
   "id": "35df9926dd470c20",
   "outputs": [],
   "execution_count": 56
  },
  {
   "metadata": {
    "ExecuteTime": {
     "end_time": "2025-03-11T20:29:02.530893Z",
     "start_time": "2025-03-11T20:28:46.806044Z"
    }
   },
   "cell_type": "code",
   "source": [
    "# sample pairwise data to train classifier on!\n",
    "x_train, y_train = generate_pair_samples(embeddings_train, labels_train, 256_000)\n",
    "print(x_train.shape, y_train.shape)\n",
    "\n",
    "x_test, y_test = generate_pair_samples(embeddings_excluded, labels_excluded, 64_000)\n",
    "print(x_test.shape, y_test.shape)"
   ],
   "id": "51c1525003ddd7dc",
   "outputs": [
    {
     "name": "stdout",
     "output_type": "stream",
     "text": [
      "(256000, 256) (256000,)\n",
      "(64000, 256) (64000,)\n"
     ]
    }
   ],
   "execution_count": 61
  },
  {
   "metadata": {
    "ExecuteTime": {
     "end_time": "2025-03-11T20:29:40.564823Z",
     "start_time": "2025-03-11T20:29:02.540446Z"
    }
   },
   "cell_type": "code",
   "source": [
    "from sklearn.ensemble import RandomForestClassifier\n",
    "from sklearn.metrics import classification_report\n",
    "\n",
    "clf = RandomForestClassifier(n_estimators=10)\n",
    "\n",
    "clf.fit(x_train, y_train)\n",
    "\n",
    "print(classification_report(y_train, clf.predict(x_train)))\n",
    "print(classification_report(y_test, clf.predict(x_test)))"
   ],
   "id": "3416c5bac1b0bfb8",
   "outputs": [
    {
     "name": "stdout",
     "output_type": "stream",
     "text": [
      "              precision    recall  f1-score   support\n",
      "\n",
      "           0       0.98      0.99      0.99    127774\n",
      "           1       0.99      0.98      0.99    128226\n",
      "\n",
      "    accuracy                           0.99    256000\n",
      "   macro avg       0.99      0.99      0.99    256000\n",
      "weighted avg       0.99      0.99      0.99    256000\n",
      "\n",
      "              precision    recall  f1-score   support\n",
      "\n",
      "           0       0.50      0.50      0.50     31941\n",
      "           1       0.50      0.50      0.50     32059\n",
      "\n",
      "    accuracy                           0.50     64000\n",
      "   macro avg       0.50      0.50      0.50     64000\n",
      "weighted avg       0.50      0.50      0.50     64000\n",
      "\n"
     ]
    }
   ],
   "execution_count": 62
  }
 ],
 "metadata": {
  "kernelspec": {
   "display_name": "Python 3",
   "language": "python",
   "name": "python3"
  },
  "language_info": {
   "codemirror_mode": {
    "name": "ipython",
    "version": 2
   },
   "file_extension": ".py",
   "mimetype": "text/x-python",
   "name": "python",
   "nbconvert_exporter": "python",
   "pygments_lexer": "ipython2",
   "version": "2.7.6"
  }
 },
 "nbformat": 4,
 "nbformat_minor": 5
}
