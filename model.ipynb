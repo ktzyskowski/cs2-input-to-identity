{
 "cells": [
  {
   "metadata": {
    "ExecuteTime": {
     "end_time": "2025-02-11T19:59:37.897065Z",
     "start_time": "2025-02-11T19:59:37.894186Z"
    }
   },
   "cell_type": "code",
   "source": [
    "import numpy as np\n",
    "\n",
    "np.random.seed(410)"
   ],
   "id": "99449fe1f36b7e6d",
   "outputs": [],
   "execution_count": 9
  },
  {
   "metadata": {
    "collapsed": true,
    "ExecuteTime": {
     "end_time": "2025-02-11T19:59:40.978457Z",
     "start_time": "2025-02-11T19:59:37.912784Z"
    }
   },
   "cell_type": "code",
   "source": [
    "import torch\n",
    "\n",
    "from util.spray_util import load_spray_df\n",
    "\n",
    "spray_directory = \"res/sprays\"\n",
    "df = load_spray_df(spray_directory)\n",
    "\n",
    "print(\"samples:\", df.shape[0])\n",
    "df.head()"
   ],
   "id": "initial_id",
   "outputs": [
    {
     "name": "stdout",
     "output_type": "stream",
     "text": [
      "samples: 49839\n"
     ]
    },
    {
     "data": {
      "text/plain": [
       "  match_id map_id          player_id filename  length\n",
       "0    92650      0  76561198257770857   95.npy       9\n",
       "1    92650      0  76561198257770857   97.npy       7\n",
       "2    92650      0  76561198257770857   96.npy       9\n",
       "3    92650      0  76561198257770857   98.npy      15\n",
       "4    92650      0  76561198257770857  102.npy       5"
      ],
      "text/html": [
       "<div>\n",
       "<style scoped>\n",
       "    .dataframe tbody tr th:only-of-type {\n",
       "        vertical-align: middle;\n",
       "    }\n",
       "\n",
       "    .dataframe tbody tr th {\n",
       "        vertical-align: top;\n",
       "    }\n",
       "\n",
       "    .dataframe thead th {\n",
       "        text-align: right;\n",
       "    }\n",
       "</style>\n",
       "<table border=\"1\" class=\"dataframe\">\n",
       "  <thead>\n",
       "    <tr style=\"text-align: right;\">\n",
       "      <th></th>\n",
       "      <th>match_id</th>\n",
       "      <th>map_id</th>\n",
       "      <th>player_id</th>\n",
       "      <th>filename</th>\n",
       "      <th>length</th>\n",
       "    </tr>\n",
       "  </thead>\n",
       "  <tbody>\n",
       "    <tr>\n",
       "      <th>0</th>\n",
       "      <td>92650</td>\n",
       "      <td>0</td>\n",
       "      <td>76561198257770857</td>\n",
       "      <td>95.npy</td>\n",
       "      <td>9</td>\n",
       "    </tr>\n",
       "    <tr>\n",
       "      <th>1</th>\n",
       "      <td>92650</td>\n",
       "      <td>0</td>\n",
       "      <td>76561198257770857</td>\n",
       "      <td>97.npy</td>\n",
       "      <td>7</td>\n",
       "    </tr>\n",
       "    <tr>\n",
       "      <th>2</th>\n",
       "      <td>92650</td>\n",
       "      <td>0</td>\n",
       "      <td>76561198257770857</td>\n",
       "      <td>96.npy</td>\n",
       "      <td>9</td>\n",
       "    </tr>\n",
       "    <tr>\n",
       "      <th>3</th>\n",
       "      <td>92650</td>\n",
       "      <td>0</td>\n",
       "      <td>76561198257770857</td>\n",
       "      <td>98.npy</td>\n",
       "      <td>15</td>\n",
       "    </tr>\n",
       "    <tr>\n",
       "      <th>4</th>\n",
       "      <td>92650</td>\n",
       "      <td>0</td>\n",
       "      <td>76561198257770857</td>\n",
       "      <td>102.npy</td>\n",
       "      <td>5</td>\n",
       "    </tr>\n",
       "  </tbody>\n",
       "</table>\n",
       "</div>"
      ]
     },
     "execution_count": 10,
     "metadata": {},
     "output_type": "execute_result"
    }
   ],
   "execution_count": 10
  },
  {
   "metadata": {
    "ExecuteTime": {
     "end_time": "2025-02-11T19:59:41.008231Z",
     "start_time": "2025-02-11T19:59:40.996884Z"
    }
   },
   "cell_type": "code",
   "source": [
    "# minimum length of sprays\n",
    "min_length = 7\n",
    "df = df[df[\"length\"] >= min_length].reset_index(drop=True)\n",
    "\n",
    "# minimum number of sprays per player\n",
    "min_samples = 10\n",
    "\n",
    "player_ids = [\n",
    "    player_id\n",
    "    for player_id, count in zip(*np.unique(df[\"player_id\"], return_counts=True))\n",
    "    if count >= min_samples\n",
    "]\n",
    "print(\"player ids:\", len(player_ids))"
   ],
   "id": "713d84489812302f",
   "outputs": [
    {
     "name": "stdout",
     "output_type": "stream",
     "text": [
      "player ids: 722\n"
     ]
    }
   ],
   "execution_count": 11
  },
  {
   "metadata": {
    "ExecuteTime": {
     "end_time": "2025-02-11T19:59:41.027261Z",
     "start_time": "2025-02-11T19:59:41.024797Z"
    }
   },
   "cell_type": "code",
   "source": [
    "from sklearn.model_selection import train_test_split\n",
    "\n",
    "player_ids_train, player_ids_test = train_test_split(player_ids, test_size=0.2, random_state=410)\n",
    "\n",
    "print(\"train player ids:\", len(player_ids_train))\n",
    "print(\"test player ids:\", len(player_ids_test))"
   ],
   "id": "7db3237d2b278bd9",
   "outputs": [
    {
     "name": "stdout",
     "output_type": "stream",
     "text": [
      "train player ids: 577\n",
      "test player ids: 145\n"
     ]
    }
   ],
   "execution_count": 12
  },
  {
   "metadata": {
    "ExecuteTime": {
     "end_time": "2025-02-11T19:59:42.673624Z",
     "start_time": "2025-02-11T19:59:41.033635Z"
    }
   },
   "cell_type": "code",
   "source": [
    "import os\n",
    "\n",
    "\n",
    "def load_sprays() -> list:\n",
    "    ans = []\n",
    "    for idx, row in df.iterrows():\n",
    "        # get spray path\n",
    "        filename = f\"{row.match_id}/{row.map_id}/{row.player_id}/{row.filename}\"\n",
    "        filepath = os.path.join(spray_directory, filename)\n",
    "\n",
    "        # load spray\n",
    "        array = np.load(filepath)\n",
    "\n",
    "        # calculate velocity (degrees/shot) and acceleration (degrees/shot^2)\n",
    "        # vel = np.diff(array, axis=0)\n",
    "        # acc = np.diff(vel, axis=0)\n",
    "        # features = np.concatenate((array[2:, :], vel[1:, :], acc), axis=1)\n",
    "        ans.append(array)\n",
    "    return ans\n",
    "\n",
    "\n",
    "data = load_sprays()\n",
    "\n",
    "# normalize (z-scale) pitch and yaw\n",
    "all_shots = np.concatenate(data, axis=0)\n",
    "mean = all_shots.mean(axis=0)\n",
    "std = all_shots.std(axis=0)\n",
    "\n",
    "data_zscaled = []\n",
    "for spray in data:\n",
    "    # spray_zscaled = (spray - mean) / std\n",
    "    spray_zscaled = spray / std\n",
    "    data_zscaled.append(torch.from_numpy(spray_zscaled))  # also convert to torch tensor\n",
    "\n",
    "print(\"spray shape:\", data_zscaled[0].shape)"
   ],
   "id": "ca5793f262f32bc1",
   "outputs": [
    {
     "name": "stdout",
     "output_type": "stream",
     "text": [
      "spray shape: torch.Size([9, 2])\n"
     ]
    }
   ],
   "execution_count": 13
  },
  {
   "metadata": {
    "ExecuteTime": {
     "end_time": "2025-02-11T19:59:42.688038Z",
     "start_time": "2025-02-11T19:59:42.683494Z"
    }
   },
   "cell_type": "code",
   "source": [
    "from torch.nn.utils.rnn import pad_sequence, pack_padded_sequence\n",
    "\n",
    "\n",
    "class SprayModel(torch.nn.Module):\n",
    "    def __init__(self, hidden_size: int = 64, num_layers: int = 3, bidirectional: bool = True):\n",
    "        super().__init__()\n",
    "        self._num_lstm_layers = num_layers\n",
    "        self._bidirectional = bidirectional\n",
    "        self.lstm = torch.nn.LSTM(\n",
    "            input_size=2,\n",
    "            hidden_size=hidden_size,\n",
    "            num_layers=self._num_lstm_layers,\n",
    "            batch_first=True,\n",
    "            bidirectional=self._bidirectional,\n",
    "        )\n",
    "\n",
    "    def embedding(self, x):\n",
    "        _, (h, c) = self.lstm(x)\n",
    "        if self._bidirectional:\n",
    "            hf, cf = h[self._num_lstm_layers - 1], c[self._num_lstm_layers - 1]\n",
    "            hb, cb = h[-1], c[-1]\n",
    "            embedding = torch.cat([hf, cf, hb, cb], dim=-1)\n",
    "        else:\n",
    "            h, c = h[-1], c[-1]\n",
    "            embedding = torch.cat([h, c], dim=-1)\n",
    "        return embedding\n",
    "\n",
    "    def forward(self, batch):\n",
    "        packed_sprays = self._pack_sprays(batch)\n",
    "        embedding = self.embedding(packed_sprays)\n",
    "        return embedding\n",
    "\n",
    "    @staticmethod\n",
    "    def _pack_sprays(batch):\n",
    "        lengths = torch.tensor([s.shape[0] for s in batch], dtype=torch.long)\n",
    "        padded_sprays = pad_sequence(batch, batch_first=True)\n",
    "        packed_sprays = pack_padded_sequence(padded_sprays, lengths, batch_first=True, enforce_sorted=False)\n",
    "        return packed_sprays\n",
    "\n",
    "\n",
    "model = SprayModel()"
   ],
   "id": "da87e0ac9a34d233",
   "outputs": [],
   "execution_count": 14
  },
  {
   "metadata": {
    "ExecuteTime": {
     "end_time": "2025-02-11T19:59:42.699784Z",
     "start_time": "2025-02-11T19:59:42.695892Z"
    }
   },
   "cell_type": "code",
   "source": [
    "def sample_batch(batch_player_ids: list[str], n_players: int = 16, samples_per_player: int = 4):\n",
    "    \"\"\"Generate a minibatch of spray samples.\n",
    "\n",
    "    :param batch_player_ids: the player IDs to sample from for the batch.\n",
    "    :param n_players: the number of players to include in the batch.\n",
    "    :param samples_per_player: the number of samples per player to include in the batch.\n",
    "    :return: the batch as a tuple (sprays, labels).\n",
    "    \"\"\"\n",
    "    batch_player_ids = np.random.choice(batch_player_ids, size=n_players, replace=False)\n",
    "    labels, sprays = [], []\n",
    "    for batch_player_id in batch_player_ids:\n",
    "        pool = df[df[\"player_id\"] == batch_player_id]\n",
    "        data_idx = np.random.choice(pool.index, size=samples_per_player, replace=False)\n",
    "        labels.extend(pool.loc[data_idx].player_id)\n",
    "        sprays.extend([data_zscaled[idx] for idx in data_idx])\n",
    "    labels = np.array(labels)\n",
    "    return sprays, labels\n",
    "\n",
    "\n",
    "def mine_triplets(embeddings, labels, margin: float = 1.0):\n",
    "    triplets = []\n",
    "    dist = torch.cdist(embeddings, embeddings, p=2)\n",
    "    for i in range(len(embeddings)):\n",
    "        anchor_label = labels[i]\n",
    "\n",
    "        # Get positives (same player, exclude self)\n",
    "        positive_mask = torch.from_numpy(labels == anchor_label) & (torch.arange(len(labels)) != i)\n",
    "        positive_indices = torch.where(positive_mask)[0]\n",
    "\n",
    "        # Get negatives (different player)\n",
    "        negative_mask = torch.from_numpy(labels != anchor_label)\n",
    "        negative_indices = torch.where(negative_mask)[0]\n",
    "\n",
    "        # Select the hardest positive (closest among same-player samples)\n",
    "        positive_idx = positive_indices[torch.argmin(dist[i, positive_indices])]\n",
    "\n",
    "        # Select a semi-hard negative (hardest negative within the margin)\n",
    "        neg_distances = dist[i, negative_indices]\n",
    "        semi_hard_negatives = negative_indices[\n",
    "            (neg_distances > dist[i, positive_idx]) & (neg_distances < dist[i, positive_idx] + margin)]\n",
    "\n",
    "        # if we have semi-hard negatives, include in returned triplets\n",
    "        if len(semi_hard_negatives) > 0:\n",
    "            negative_idx = semi_hard_negatives[torch.argmin(dist[i, semi_hard_negatives])]\n",
    "            triplets.append((i, positive_idx.item(), negative_idx.item()))\n",
    "\n",
    "    anchor, positive, negative = zip(*triplets)\n",
    "    anchor, positive, negative = torch.tensor(anchor), torch.tensor(positive), torch.tensor(negative)\n",
    "    return anchor, positive, negative"
   ],
   "id": "fa5a789c6904dcb5",
   "outputs": [],
   "execution_count": 15
  },
  {
   "metadata": {
    "ExecuteTime": {
     "end_time": "2025-02-11T20:04:37.035808Z",
     "start_time": "2025-02-11T19:59:42.707514Z"
    }
   },
   "cell_type": "code",
   "source": [
    "from tqdm import tqdm\n",
    "\n",
    "triplet_loss = torch.nn.TripletMarginLoss(margin=0.2, p=2, eps=1e-7)\n",
    "optimizer = torch.optim.Adam(model.parameters(), lr=1e-3)\n",
    "\n",
    "\n",
    "def train(n_batches: int = 1_000):\n",
    "    model.train()\n",
    "\n",
    "    avg_loss = 0.0\n",
    "\n",
    "    for _ in range(n_batches):\n",
    "        sprays, labels = sample_batch(player_ids_train)\n",
    "        embeddings = model(sprays)\n",
    "        a, p, n = mine_triplets(embeddings, labels)\n",
    "        a, p, n = embeddings[a], embeddings[p], embeddings[n]\n",
    "\n",
    "        loss = triplet_loss(a, p, n)\n",
    "        avg_loss += loss.item()\n",
    "        optimizer.zero_grad()\n",
    "        loss.backward()\n",
    "        optimizer.step()\n",
    "\n",
    "    print(avg_loss / n_batches)\n",
    "\n",
    "\n",
    "n_epochs = 10\n",
    "for epoch in range(1, n_epochs + 1):\n",
    "    print(\"epoch\", epoch)\n",
    "    train()"
   ],
   "id": "646580f8b02fbc00",
   "outputs": [
    {
     "name": "stdout",
     "output_type": "stream",
     "text": [
      "epoch 1\n",
      "0.05788693371601403\n",
      "epoch 2\n",
      "0.04479851902462542\n",
      "epoch 3\n",
      "0.04572523397393525\n",
      "epoch 4\n",
      "0.04419376595597714\n",
      "epoch 5\n",
      "0.04621525129675865\n",
      "epoch 6\n",
      "0.04488736869301647\n",
      "epoch 7\n",
      "0.04299566270783543\n",
      "epoch 8\n",
      "0.044969033846631645\n",
      "epoch 9\n"
     ]
    },
    {
     "ename": "KeyboardInterrupt",
     "evalue": "",
     "output_type": "error",
     "traceback": [
      "\u001B[0;31m---------------------------------------------------------------------------\u001B[0m",
      "\u001B[0;31mKeyboardInterrupt\u001B[0m                         Traceback (most recent call last)",
      "Cell \u001B[0;32mIn[16], line 30\u001B[0m\n\u001B[1;32m     28\u001B[0m \u001B[38;5;28;01mfor\u001B[39;00m epoch \u001B[38;5;129;01min\u001B[39;00m \u001B[38;5;28mrange\u001B[39m(\u001B[38;5;241m1\u001B[39m, n_epochs \u001B[38;5;241m+\u001B[39m \u001B[38;5;241m1\u001B[39m):\n\u001B[1;32m     29\u001B[0m     \u001B[38;5;28mprint\u001B[39m(\u001B[38;5;124m\"\u001B[39m\u001B[38;5;124mepoch\u001B[39m\u001B[38;5;124m\"\u001B[39m, epoch)\n\u001B[0;32m---> 30\u001B[0m     \u001B[43mtrain\u001B[49m\u001B[43m(\u001B[49m\u001B[43m)\u001B[49m\n",
      "Cell \u001B[0;32mIn[16], line 21\u001B[0m, in \u001B[0;36mtrain\u001B[0;34m(n_batches)\u001B[0m\n\u001B[1;32m     19\u001B[0m     avg_loss \u001B[38;5;241m+\u001B[39m\u001B[38;5;241m=\u001B[39m loss\u001B[38;5;241m.\u001B[39mitem()\n\u001B[1;32m     20\u001B[0m     optimizer\u001B[38;5;241m.\u001B[39mzero_grad()\n\u001B[0;32m---> 21\u001B[0m     \u001B[43mloss\u001B[49m\u001B[38;5;241;43m.\u001B[39;49m\u001B[43mbackward\u001B[49m\u001B[43m(\u001B[49m\u001B[43m)\u001B[49m\n\u001B[1;32m     22\u001B[0m     optimizer\u001B[38;5;241m.\u001B[39mstep()\n\u001B[1;32m     24\u001B[0m \u001B[38;5;28mprint\u001B[39m(avg_loss \u001B[38;5;241m/\u001B[39m n_batches)\n",
      "File \u001B[0;32m~/msai/msthesis/.venv/lib/python3.10/site-packages/torch/_tensor.py:581\u001B[0m, in \u001B[0;36mTensor.backward\u001B[0;34m(self, gradient, retain_graph, create_graph, inputs)\u001B[0m\n\u001B[1;32m    571\u001B[0m \u001B[38;5;28;01mif\u001B[39;00m has_torch_function_unary(\u001B[38;5;28mself\u001B[39m):\n\u001B[1;32m    572\u001B[0m     \u001B[38;5;28;01mreturn\u001B[39;00m handle_torch_function(\n\u001B[1;32m    573\u001B[0m         Tensor\u001B[38;5;241m.\u001B[39mbackward,\n\u001B[1;32m    574\u001B[0m         (\u001B[38;5;28mself\u001B[39m,),\n\u001B[0;32m   (...)\u001B[0m\n\u001B[1;32m    579\u001B[0m         inputs\u001B[38;5;241m=\u001B[39minputs,\n\u001B[1;32m    580\u001B[0m     )\n\u001B[0;32m--> 581\u001B[0m \u001B[43mtorch\u001B[49m\u001B[38;5;241;43m.\u001B[39;49m\u001B[43mautograd\u001B[49m\u001B[38;5;241;43m.\u001B[39;49m\u001B[43mbackward\u001B[49m\u001B[43m(\u001B[49m\n\u001B[1;32m    582\u001B[0m \u001B[43m    \u001B[49m\u001B[38;5;28;43mself\u001B[39;49m\u001B[43m,\u001B[49m\u001B[43m \u001B[49m\u001B[43mgradient\u001B[49m\u001B[43m,\u001B[49m\u001B[43m \u001B[49m\u001B[43mretain_graph\u001B[49m\u001B[43m,\u001B[49m\u001B[43m \u001B[49m\u001B[43mcreate_graph\u001B[49m\u001B[43m,\u001B[49m\u001B[43m \u001B[49m\u001B[43minputs\u001B[49m\u001B[38;5;241;43m=\u001B[39;49m\u001B[43minputs\u001B[49m\n\u001B[1;32m    583\u001B[0m \u001B[43m\u001B[49m\u001B[43m)\u001B[49m\n",
      "File \u001B[0;32m~/msai/msthesis/.venv/lib/python3.10/site-packages/torch/autograd/__init__.py:347\u001B[0m, in \u001B[0;36mbackward\u001B[0;34m(tensors, grad_tensors, retain_graph, create_graph, grad_variables, inputs)\u001B[0m\n\u001B[1;32m    342\u001B[0m     retain_graph \u001B[38;5;241m=\u001B[39m create_graph\n\u001B[1;32m    344\u001B[0m \u001B[38;5;66;03m# The reason we repeat the same comment below is that\u001B[39;00m\n\u001B[1;32m    345\u001B[0m \u001B[38;5;66;03m# some Python versions print out the first line of a multi-line function\u001B[39;00m\n\u001B[1;32m    346\u001B[0m \u001B[38;5;66;03m# calls in the traceback and some print out the last line\u001B[39;00m\n\u001B[0;32m--> 347\u001B[0m \u001B[43m_engine_run_backward\u001B[49m\u001B[43m(\u001B[49m\n\u001B[1;32m    348\u001B[0m \u001B[43m    \u001B[49m\u001B[43mtensors\u001B[49m\u001B[43m,\u001B[49m\n\u001B[1;32m    349\u001B[0m \u001B[43m    \u001B[49m\u001B[43mgrad_tensors_\u001B[49m\u001B[43m,\u001B[49m\n\u001B[1;32m    350\u001B[0m \u001B[43m    \u001B[49m\u001B[43mretain_graph\u001B[49m\u001B[43m,\u001B[49m\n\u001B[1;32m    351\u001B[0m \u001B[43m    \u001B[49m\u001B[43mcreate_graph\u001B[49m\u001B[43m,\u001B[49m\n\u001B[1;32m    352\u001B[0m \u001B[43m    \u001B[49m\u001B[43minputs\u001B[49m\u001B[43m,\u001B[49m\n\u001B[1;32m    353\u001B[0m \u001B[43m    \u001B[49m\u001B[43mallow_unreachable\u001B[49m\u001B[38;5;241;43m=\u001B[39;49m\u001B[38;5;28;43;01mTrue\u001B[39;49;00m\u001B[43m,\u001B[49m\n\u001B[1;32m    354\u001B[0m \u001B[43m    \u001B[49m\u001B[43maccumulate_grad\u001B[49m\u001B[38;5;241;43m=\u001B[39;49m\u001B[38;5;28;43;01mTrue\u001B[39;49;00m\u001B[43m,\u001B[49m\n\u001B[1;32m    355\u001B[0m \u001B[43m\u001B[49m\u001B[43m)\u001B[49m\n",
      "File \u001B[0;32m~/msai/msthesis/.venv/lib/python3.10/site-packages/torch/autograd/graph.py:825\u001B[0m, in \u001B[0;36m_engine_run_backward\u001B[0;34m(t_outputs, *args, **kwargs)\u001B[0m\n\u001B[1;32m    823\u001B[0m     unregister_hooks \u001B[38;5;241m=\u001B[39m _register_logging_hooks_on_whole_graph(t_outputs)\n\u001B[1;32m    824\u001B[0m \u001B[38;5;28;01mtry\u001B[39;00m:\n\u001B[0;32m--> 825\u001B[0m     \u001B[38;5;28;01mreturn\u001B[39;00m \u001B[43mVariable\u001B[49m\u001B[38;5;241;43m.\u001B[39;49m\u001B[43m_execution_engine\u001B[49m\u001B[38;5;241;43m.\u001B[39;49m\u001B[43mrun_backward\u001B[49m\u001B[43m(\u001B[49m\u001B[43m  \u001B[49m\u001B[38;5;66;43;03m# Calls into the C++ engine to run the backward pass\u001B[39;49;00m\n\u001B[1;32m    826\u001B[0m \u001B[43m        \u001B[49m\u001B[43mt_outputs\u001B[49m\u001B[43m,\u001B[49m\u001B[43m \u001B[49m\u001B[38;5;241;43m*\u001B[39;49m\u001B[43margs\u001B[49m\u001B[43m,\u001B[49m\u001B[43m \u001B[49m\u001B[38;5;241;43m*\u001B[39;49m\u001B[38;5;241;43m*\u001B[39;49m\u001B[43mkwargs\u001B[49m\n\u001B[1;32m    827\u001B[0m \u001B[43m    \u001B[49m\u001B[43m)\u001B[49m  \u001B[38;5;66;03m# Calls into the C++ engine to run the backward pass\u001B[39;00m\n\u001B[1;32m    828\u001B[0m \u001B[38;5;28;01mfinally\u001B[39;00m:\n\u001B[1;32m    829\u001B[0m     \u001B[38;5;28;01mif\u001B[39;00m attach_logging_hooks:\n",
      "\u001B[0;31mKeyboardInterrupt\u001B[0m: "
     ]
    }
   ],
   "execution_count": 16
  },
  {
   "metadata": {
    "ExecuteTime": {
     "end_time": "2025-02-11T20:04:37.046248Z",
     "start_time": "2025-02-11T18:12:02.389756Z"
    }
   },
   "cell_type": "code",
   "source": [
    "# from tqdm import tqdm\n",
    "#\n",
    "# # generate our initial embeddings\n",
    "# model.eval()\n",
    "# embeddings = []\n",
    "# for spray in tqdm(data):\n",
    "#     embeddings.append(model.embedding(torch.from_numpy(spray)))\n",
    "# embeddings = torch.stack(embeddings)\n",
    "# embeddings.shape"
   ],
   "id": "4a1748e5cbe09473",
   "outputs": [],
   "execution_count": 9
  },
  {
   "metadata": {
    "ExecuteTime": {
     "end_time": "2025-02-11T20:04:37.046582Z",
     "start_time": "2025-02-11T18:12:02.395149Z"
    }
   },
   "cell_type": "code",
   "source": [
    "# # generate anchor-positive pairs\n",
    "#\n",
    "# def generate_anchor_positive_pairs(players: list[str], N: int = 28_000, random_seed: int = 410):\n",
    "#     \"\"\"Generate anchor-positive pairs, where each pair is a tuple of data indices.\n",
    "#\n",
    "#     :param players: list of player IDs.\n",
    "#     :param N: the number of pairs.\n",
    "#     :param random_seed: the random seed.\n",
    "#     :return: a list of pairs of spray datapoint indices.\n",
    "#     \"\"\"\n",
    "#     pairs = []\n",
    "#     rng = np.random.default_rng(random_seed)\n",
    "#     players = rng.choice(players, size=N, replace=True)\n",
    "#     for player in players:\n",
    "#         spray_indices = df[df[\"player_id\"] == player].index\n",
    "#         anchor, positive = rng.choice(spray_indices, size=2, replace=False)\n",
    "#         pairs.append([anchor, positive])\n",
    "#     return np.array(pairs)\n",
    "#\n",
    "#\n",
    "# train_ap_pairs = generate_anchor_positive_pairs(player_ids_train)\n",
    "# print(\"train ap pairs:\", train_ap_pairs.shape)"
   ],
   "id": "56fa8ef4f79f08",
   "outputs": [],
   "execution_count": 10
  },
  {
   "metadata": {
    "ExecuteTime": {
     "end_time": "2025-02-11T20:04:37.049940Z",
     "start_time": "2025-02-11T19:57:22.242364Z"
    }
   },
   "cell_type": "code",
   "source": [
    "sprays, labels = sample_batch(player_ids_train)\n",
    "embeddings = model(sprays)\n",
    "\n",
    "dist = torch.cdist(embeddings, embeddings, p=2)\n",
    "\n",
    "dist[::4].argsort(dim=-1) // 4"
   ],
   "id": "fbf10ea054541fed",
   "outputs": [
    {
     "data": {
      "text/plain": [
       "tensor([[ 0,  4, 15,  ..., 15,  4,  8],\n",
       "        [ 1, 11, 12,  ...,  5,  8, 15],\n",
       "        [ 2,  5, 11,  ...,  5,  4,  8],\n",
       "        ...,\n",
       "        [13, 15,  8,  ...,  5,  4,  8],\n",
       "        [14,  7,  0,  ...,  4, 15,  8],\n",
       "        [15,  5,  5,  ...,  1,  5,  4]])"
      ]
     },
     "execution_count": 31,
     "metadata": {},
     "output_type": "execute_result"
    }
   ],
   "execution_count": 31
  },
  {
   "metadata": {
    "ExecuteTime": {
     "end_time": "2025-02-11T20:04:37.051405Z",
     "start_time": "2025-02-11T19:57:23.445735Z"
    }
   },
   "cell_type": "code",
   "source": [
    "from matplotlib import pyplot as plt\n",
    "from sklearn.manifold import TSNE\n",
    "\n",
    "tsne = TSNE(n_components=2, random_state=0)\n",
    "tsne_embeddings = tsne.fit_transform(embeddings.detach().numpy())\n",
    "\n",
    "for i, player_id in enumerate(np.unique(labels)):\n",
    "    indices = np.where(labels == player_id)[0]\n",
    "    plt.scatter(tsne_embeddings[indices, 0], tsne_embeddings[indices, 1])\n",
    "plt.show()"
   ],
   "id": "8cb53e3f306dc7e9",
   "outputs": [
    {
     "data": {
      "text/plain": [
       "<Figure size 640x480 with 1 Axes>"
      ],
      "image/png": "[encoded data removed]"
     },
     "metadata": {},
     "output_type": "display_data"
    }
   ],
   "execution_count": 32
  }
 ],
 "metadata": {
  "kernelspec": {
   "display_name": "Python 3",
   "language": "python",
   "name": "python3"
  },
  "language_info": {
   "codemirror_mode": {
    "name": "ipython",
    "version": 2
   },
   "file_extension": ".py",
   "mimetype": "text/x-python",
   "name": "python",
   "nbconvert_exporter": "python",
   "pygments_lexer": "ipython2",
   "version": "2.7.6"
  }
 },
 "nbformat": 4,
 "nbformat_minor": 5
}
