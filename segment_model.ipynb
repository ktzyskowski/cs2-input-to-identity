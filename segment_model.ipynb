{
 "cells": [
  {
   "metadata": {
    "ExecuteTime": {
     "end_time": "2025-03-13T20:33:06.718305Z",
     "start_time": "2025-03-13T20:33:06.715449Z"
    }
   },
   "cell_type": "code",
   "source": [
    "import torch\n",
    "\n",
    "# Check if CUDA is available (NVIDIA GPU support)\n",
    "device = torch.device(\"cuda\" if torch.cuda.is_available() else\n",
    "                      \"mps\" if torch.backends.mps.is_available() else\n",
    "                      \"cpu\")\n",
    "\n",
    "print(f\"Using device: {device}\")"
   ],
   "id": "8f3959e9df6a30a0",
   "outputs": [
    {
     "name": "stdout",
     "output_type": "stream",
     "text": [
      "Using device: mps\n"
     ]
    }
   ],
   "execution_count": 156
  },
  {
   "metadata": {
    "ExecuteTime": {
     "end_time": "2025-03-13T20:33:09.150094Z",
     "start_time": "2025-03-13T20:33:09.129090Z"
    }
   },
   "cell_type": "code",
   "source": [
    "import polars as pl\n",
    "import os\n",
    "\n",
    "segment_directory = \"./res/mnk5-dust2\"\n",
    "\n",
    "\n",
    "def load_catalog(directory: str):\n",
    "    \"\"\"Load catalog dataframe of samples from resource directory.\"\"\"\n",
    "    data = []\n",
    "    for match_id in os.listdir(directory):\n",
    "        if not match_id.isnumeric():\n",
    "            continue\n",
    "        match_directory = os.path.join(directory, match_id)\n",
    "        for map_id in os.listdir(match_directory):\n",
    "            if not map_id.isnumeric():\n",
    "                continue\n",
    "            map_directory = os.path.join(match_directory, map_id)\n",
    "            for filename in os.listdir(map_directory):\n",
    "                if not filename.endswith(\".csv\"):\n",
    "                    continue\n",
    "                player_id = filename[:-4]  # strip .csv\n",
    "                data.append({\"match_id\": match_id, \"map_id\": map_id, \"player_id\": player_id, \"filename\": filename})\n",
    "    return pl.DataFrame(data)\n",
    "\n",
    "\n",
    "catalog_df = load_catalog(segment_directory)\n",
    "\n",
    "print(\"samples:\", catalog_df.shape[0])\n",
    "catalog_df"
   ],
   "id": "65889b20a2cc4a1a",
   "outputs": [
    {
     "name": "stdout",
     "output_type": "stream",
     "text": [
      "samples: 2671\n"
     ]
    },
    {
     "data": {
      "text/plain": [
       "shape: (2_671, 4)\n",
       "┌──────────┬────────┬───────────────────┬───────────────────────┐\n",
       "│ match_id ┆ map_id ┆ player_id         ┆ filename              │\n",
       "│ ---      ┆ ---    ┆ ---               ┆ ---                   │\n",
       "│ str      ┆ str    ┆ str               ┆ str                   │\n",
       "╞══════════╪════════╪═══════════════════╪═══════════════════════╡\n",
       "│ 91026    ┆ 0      ┆ 76561198024500837 ┆ 76561198024500837.csv │\n",
       "│ 91026    ┆ 0      ┆ 76561198076204322 ┆ 76561198076204322.csv │\n",
       "│ 91026    ┆ 0      ┆ 76561198071291375 ┆ 76561198071291375.csv │\n",
       "│ 91026    ┆ 0      ┆ 76561198029535730 ┆ 76561198029535730.csv │\n",
       "│ 91026    ┆ 0      ┆ 76561198800622918 ┆ 76561198800622918.csv │\n",
       "│ …        ┆ …      ┆ …                 ┆ …                     │\n",
       "│ 88973    ┆ 1      ┆ 76561198162880095 ┆ 76561198162880095.csv │\n",
       "│ 88973    ┆ 1      ┆ 76561198084122575 ┆ 76561198084122575.csv │\n",
       "│ 88973    ┆ 1      ┆ 76561198067239272 ┆ 76561198067239272.csv │\n",
       "│ 88973    ┆ 1      ┆ 76561198102745622 ┆ 76561198102745622.csv │\n",
       "│ 88973    ┆ 1      ┆ 76561198374401449 ┆ 76561198374401449.csv │\n",
       "└──────────┴────────┴───────────────────┴───────────────────────┘"
      ],
      "text/html": [
       "<div><style>\n",
       ".dataframe > thead > tr,\n",
       ".dataframe > tbody > tr {\n",
       "  text-align: right;\n",
       "  white-space: pre-wrap;\n",
       "}\n",
       "</style>\n",
       "<small>shape: (2_671, 4)</small><table border=\"1\" class=\"dataframe\"><thead><tr><th>match_id</th><th>map_id</th><th>player_id</th><th>filename</th></tr><tr><td>str</td><td>str</td><td>str</td><td>str</td></tr></thead><tbody><tr><td>&quot;91026&quot;</td><td>&quot;0&quot;</td><td>&quot;76561198024500837&quot;</td><td>&quot;76561198024500837.csv&quot;</td></tr><tr><td>&quot;91026&quot;</td><td>&quot;0&quot;</td><td>&quot;76561198076204322&quot;</td><td>&quot;76561198076204322.csv&quot;</td></tr><tr><td>&quot;91026&quot;</td><td>&quot;0&quot;</td><td>&quot;76561198071291375&quot;</td><td>&quot;76561198071291375.csv&quot;</td></tr><tr><td>&quot;91026&quot;</td><td>&quot;0&quot;</td><td>&quot;76561198029535730&quot;</td><td>&quot;76561198029535730.csv&quot;</td></tr><tr><td>&quot;91026&quot;</td><td>&quot;0&quot;</td><td>&quot;76561198800622918&quot;</td><td>&quot;76561198800622918.csv&quot;</td></tr><tr><td>&hellip;</td><td>&hellip;</td><td>&hellip;</td><td>&hellip;</td></tr><tr><td>&quot;88973&quot;</td><td>&quot;1&quot;</td><td>&quot;76561198162880095&quot;</td><td>&quot;76561198162880095.csv&quot;</td></tr><tr><td>&quot;88973&quot;</td><td>&quot;1&quot;</td><td>&quot;76561198084122575&quot;</td><td>&quot;76561198084122575.csv&quot;</td></tr><tr><td>&quot;88973&quot;</td><td>&quot;1&quot;</td><td>&quot;76561198067239272&quot;</td><td>&quot;76561198067239272.csv&quot;</td></tr><tr><td>&quot;88973&quot;</td><td>&quot;1&quot;</td><td>&quot;76561198102745622&quot;</td><td>&quot;76561198102745622.csv&quot;</td></tr><tr><td>&quot;88973&quot;</td><td>&quot;1&quot;</td><td>&quot;76561198374401449&quot;</td><td>&quot;76561198374401449.csv&quot;</td></tr></tbody></table></div>"
      ]
     },
     "execution_count": 157,
     "metadata": {},
     "output_type": "execute_result"
    }
   ],
   "execution_count": 157
  },
  {
   "metadata": {
    "ExecuteTime": {
     "end_time": "2025-03-13T20:33:13.105978Z",
     "start_time": "2025-03-13T20:33:13.102573Z"
    }
   },
   "cell_type": "code",
   "source": [
    "# minimum number of games played for a player to be included in sample set\n",
    "min_maps_played = 5\n",
    "\n",
    "match_counts = (\n",
    "    catalog_df\n",
    "    .group_by(\"player_id\")\n",
    "    .agg(\n",
    "        pl.len().alias(\"count\"),\n",
    "    )\n",
    "    .filter(\n",
    "        pl.col(\"count\") >= min_maps_played\n",
    "    )\n",
    ")\n",
    "\n",
    "match_counts"
   ],
   "id": "1067d61e9a39e141",
   "outputs": [
    {
     "data": {
      "text/plain": [
       "shape: (142, 2)\n",
       "┌───────────────────┬───────┐\n",
       "│ player_id         ┆ count │\n",
       "│ ---               ┆ ---   │\n",
       "│ str               ┆ u32   │\n",
       "╞═══════════════════╪═══════╡\n",
       "│ 76561198036125584 ┆ 18    │\n",
       "│ 76561198377335846 ┆ 12    │\n",
       "│ 76561198309839541 ┆ 14    │\n",
       "│ 76561198252978435 ┆ 6     │\n",
       "│ 76561198004854956 ┆ 14    │\n",
       "│ …                 ┆ …     │\n",
       "│ 76561198370086461 ┆ 9     │\n",
       "│ 76561197995817501 ┆ 18    │\n",
       "│ 76561199203563345 ┆ 6     │\n",
       "│ 76561198001151695 ┆ 9     │\n",
       "│ 76561197987713664 ┆ 11    │\n",
       "└───────────────────┴───────┘"
      ],
      "text/html": [
       "<div><style>\n",
       ".dataframe > thead > tr,\n",
       ".dataframe > tbody > tr {\n",
       "  text-align: right;\n",
       "  white-space: pre-wrap;\n",
       "}\n",
       "</style>\n",
       "<small>shape: (142, 2)</small><table border=\"1\" class=\"dataframe\"><thead><tr><th>player_id</th><th>count</th></tr><tr><td>str</td><td>u32</td></tr></thead><tbody><tr><td>&quot;76561198036125584&quot;</td><td>18</td></tr><tr><td>&quot;76561198377335846&quot;</td><td>12</td></tr><tr><td>&quot;76561198309839541&quot;</td><td>14</td></tr><tr><td>&quot;76561198252978435&quot;</td><td>6</td></tr><tr><td>&quot;76561198004854956&quot;</td><td>14</td></tr><tr><td>&hellip;</td><td>&hellip;</td></tr><tr><td>&quot;76561198370086461&quot;</td><td>9</td></tr><tr><td>&quot;76561197995817501&quot;</td><td>18</td></tr><tr><td>&quot;76561199203563345&quot;</td><td>6</td></tr><tr><td>&quot;76561198001151695&quot;</td><td>9</td></tr><tr><td>&quot;76561197987713664&quot;</td><td>11</td></tr></tbody></table></div>"
      ]
     },
     "execution_count": 158,
     "metadata": {},
     "output_type": "execute_result"
    }
   ],
   "execution_count": 158
  },
  {
   "metadata": {
    "ExecuteTime": {
     "end_time": "2025-03-13T20:33:17.632651Z",
     "start_time": "2025-03-13T20:33:17.583368Z"
    }
   },
   "cell_type": "code",
   "source": [
    "import matplotlib.pyplot as plt\n",
    "\n",
    "plt.hist(match_counts.select(\"count\"))\n",
    "plt.show()"
   ],
   "id": "da52d0076bafd684",
   "outputs": [
    {
     "data": {
      "text/plain": [
       "<Figure size 640x480 with 1 Axes>"
      ],
      "image/png": "[encoded data removed]"
     },
     "metadata": {},
     "output_type": "display_data"
    }
   ],
   "execution_count": 159
  },
  {
   "metadata": {
    "ExecuteTime": {
     "end_time": "2025-03-13T20:33:22.209921Z",
     "start_time": "2025-03-13T20:33:22.206640Z"
    }
   },
   "cell_type": "code",
   "source": [
    "player_ids = match_counts.select(\"player_id\").sort(\"player_id\")  # guaranteed unique by aggregation\n",
    "player_ids"
   ],
   "id": "ffa8bfecf43bb8ef",
   "outputs": [
    {
     "data": {
      "text/plain": [
       "shape: (142, 1)\n",
       "┌───────────────────┐\n",
       "│ player_id         │\n",
       "│ ---               │\n",
       "│ str               │\n",
       "╞═══════════════════╡\n",
       "│ 76561197960690195 │\n",
       "│ 76561197961491680 │\n",
       "│ 76561197967432889 │\n",
       "│ 76561197973140692 │\n",
       "│ 76561197977105184 │\n",
       "│ …                 │\n",
       "│ 76561198995880877 │\n",
       "│ 76561199063068840 │\n",
       "│ 76561199063238565 │\n",
       "│ 76561199203563345 │\n",
       "│ 76561199543652487 │\n",
       "└───────────────────┘"
      ],
      "text/html": [
       "<div><style>\n",
       ".dataframe > thead > tr,\n",
       ".dataframe > tbody > tr {\n",
       "  text-align: right;\n",
       "  white-space: pre-wrap;\n",
       "}\n",
       "</style>\n",
       "<small>shape: (142, 1)</small><table border=\"1\" class=\"dataframe\"><thead><tr><th>player_id</th></tr><tr><td>str</td></tr></thead><tbody><tr><td>&quot;76561197960690195&quot;</td></tr><tr><td>&quot;76561197961491680&quot;</td></tr><tr><td>&quot;76561197967432889&quot;</td></tr><tr><td>&quot;76561197973140692&quot;</td></tr><tr><td>&quot;76561197977105184&quot;</td></tr><tr><td>&hellip;</td></tr><tr><td>&quot;76561198995880877&quot;</td></tr><tr><td>&quot;76561199063068840&quot;</td></tr><tr><td>&quot;76561199063238565&quot;</td></tr><tr><td>&quot;76561199203563345&quot;</td></tr><tr><td>&quot;76561199543652487&quot;</td></tr></tbody></table></div>"
      ]
     },
     "execution_count": 160,
     "metadata": {},
     "output_type": "execute_result"
    }
   ],
   "execution_count": 160
  },
  {
   "metadata": {
    "ExecuteTime": {
     "end_time": "2025-03-13T20:33:24.826354Z",
     "start_time": "2025-03-13T20:33:24.822341Z"
    }
   },
   "cell_type": "code",
   "source": [
    "from sklearn.model_selection import train_test_split\n",
    "\n",
    "player_ids_train, player_ids_test = train_test_split(player_ids, test_size=0.2, random_state=410)\n",
    "\n",
    "print(\"train player ids:\", len(player_ids_train))\n",
    "print(\"test player ids:\", len(player_ids_test))"
   ],
   "id": "b56f7d3699b26358",
   "outputs": [
    {
     "name": "stdout",
     "output_type": "stream",
     "text": [
      "train player ids: 113\n",
      "test player ids: 29\n"
     ]
    }
   ],
   "execution_count": 161
  },
  {
   "metadata": {
    "ExecuteTime": {
     "end_time": "2025-03-13T20:33:38.909368Z",
     "start_time": "2025-03-13T20:33:26.916063Z"
    }
   },
   "cell_type": "code",
   "source": [
    "def load_segments(catalog, ids):\n",
    "    dfs = []\n",
    "\n",
    "    # remove players we do not want to include\n",
    "    filtered_catalog_df = (\n",
    "        catalog\n",
    "        .filter(\n",
    "            pl.col(\"player_id\").is_in(ids)\n",
    "        )\n",
    "    )\n",
    "\n",
    "    for match_id, map_id, player_id, filename in filtered_catalog_df.iter_rows():\n",
    "        path = os.path.join(segment_directory, match_id, map_id, filename)\n",
    "        df = (\n",
    "            pl.read_csv(path)\n",
    "            .with_columns([\n",
    "                pl.lit(match_id).alias(\"match_id\"),\n",
    "                pl.lit(map_id).alias(\"map_id\"),\n",
    "                pl.lit(player_id).alias(\"player_id\")\n",
    "            ])\n",
    "            .with_columns(\n",
    "                pl.col(\"segment_id\").floordiv(1_000).diff().fill_null(0).alias(\"round_restart\")\n",
    "            )\n",
    "            # >>>>>>>>>>>>>>> FILTER TO ONLY FIRST ROUND >>>>>>>>>>>>>>> #\n",
    "            # .filter(pl.col(\"segment_id\") / 1_000 < 2)\n",
    "            # <<<<<<<<<<<<<<<<<<<<<<<<<<<<<<<<<<<<<<<<<<<<<<<<<<<<<<<<<< #\n",
    "            .fill_null(0)\n",
    "            .fill_nan(0)\n",
    "            .with_columns(\n",
    "                (pl.col(\"match_id\") + \"_\" + pl.col(\"map_id\") + \"_\" + pl.col(\"player_id\")).alias(\"sample_id\")\n",
    "            )\n",
    "        )\n",
    "\n",
    "        dfs.append(df)\n",
    "\n",
    "    return pl.concat(dfs, how=\"vertical_relaxed\")\n",
    "\n",
    "\n",
    "train_data = (\n",
    "    load_segments(catalog_df, player_ids_train)\n",
    "    .filter(pl.col(\"team_num\") == 2)\n",
    "    .drop(\"team_num\")\n",
    ")\n",
    "test_data = (\n",
    "    load_segments(catalog_df, player_ids_test)\n",
    "    .filter(pl.col(\"team_num\") == 2)\n",
    "    .drop(\"team_num\")\n",
    ")\n",
    "\n",
    "segment_length = 5\n",
    "print(\"[train]\", train_data.shape[0] * segment_length / 3600, \"hours\")\n",
    "print(\"[test] \", test_data.shape[0] * segment_length / 3600, \"hours\")\n",
    "\n",
    "train_data.shape, test_data.shape"
   ],
   "id": "c6317fa2b2cde6fb",
   "outputs": [
    {
     "name": "stdout",
     "output_type": "stream",
     "text": [
      "[train] 392.19166666666666 hours\n",
      "[test]  100.23055555555555 hours\n"
     ]
    },
    {
     "data": {
      "text/plain": [
       "((282378, 113), (72166, 113))"
      ]
     },
     "execution_count": 162,
     "metadata": {},
     "output_type": "execute_result"
    }
   ],
   "execution_count": 162
  },
  {
   "metadata": {
    "ExecuteTime": {
     "end_time": "2025-03-12T15:45:35.670831Z",
     "start_time": "2025-03-12T15:45:35.668642Z"
    }
   },
   "cell_type": "code",
   "source": [
    "# [train] 1459.1361111111112 hours\n",
    "# [test]  359.8277777777778 hours\n",
    "# ((525289, 112), (129538, 112))"
   ],
   "id": "df1376221b1e81b",
   "outputs": [],
   "execution_count": 51
  },
  {
   "metadata": {
    "ExecuteTime": {
     "end_time": "2025-03-13T20:33:39.460780Z",
     "start_time": "2025-03-13T20:33:38.967643Z"
    }
   },
   "cell_type": "code",
   "source": [
    "class ZScaler:\n",
    "    def __init__(self):\n",
    "        self._ignored_columns = {\"segment_id\", \"round_restart\", \"match_id\", \"map_id\", \"player_id\", \"sample_id\"}\n",
    "        self._params = None\n",
    "\n",
    "    def fit(self, data):\n",
    "        self._params = (\n",
    "            data\n",
    "            .select(\n",
    "                *[\n",
    "                    pl.mean(key).alias(f\"{key}_mean\")\n",
    "                    for key in data.columns if key not in self._ignored_columns\n",
    "                ],\n",
    "                *[\n",
    "                    pl.std(key).alias(f\"{key}_std\")\n",
    "                    for key in data.columns if key not in self._ignored_columns\n",
    "                ],\n",
    "            )\n",
    "        )\n",
    "\n",
    "    def transform(self, data):\n",
    "        transformed = (\n",
    "            data\n",
    "            .with_columns(\n",
    "                self._params\n",
    "            )\n",
    "            .with_columns([\n",
    "                (pl.col(key) - pl.col(f\"{key}_mean\")) / pl.col(f\"{key}_std\")\n",
    "                for key in data.columns if key not in self._ignored_columns\n",
    "            ])\n",
    "            .select([key for key in data.columns])\n",
    "        )\n",
    "        return transformed\n",
    "\n",
    "\n",
    "scaler = ZScaler()\n",
    "scaler.fit(train_data)\n",
    "\n",
    "train_data_scaled = scaler.transform(train_data)\n",
    "test_data_scaled = scaler.transform(test_data)\n",
    "train_data_scaled"
   ],
   "id": "77ce04972e49a3b3",
   "outputs": [
    {
     "data": {
      "text/plain": [
       "shape: (282_378, 113)\n",
       "┌────────────┬────────────┬───────────┬───────────┬───┬────────┬───────────┬───────────┬───────────┐\n",
       "│ segment_id ┆ n_mouse_mo ┆ mean_tota ┆ std_total ┆ … ┆ map_id ┆ player_id ┆ round_res ┆ sample_id │\n",
       "│ ---        ┆ vements    ┆ l_distanc ┆ _distance ┆   ┆ ---    ┆ ---       ┆ tart      ┆ ---       │\n",
       "│ i64        ┆ ---        ┆ e         ┆ ---       ┆   ┆ str    ┆ str       ┆ ---       ┆ str       │\n",
       "│            ┆ f64        ┆ ---       ┆ f64       ┆   ┆        ┆           ┆ i64       ┆           │\n",
       "│            ┆            ┆ f64       ┆           ┆   ┆        ┆           ┆           ┆           │\n",
       "╞════════════╪════════════╪═══════════╪═══════════╪═══╪════════╪═══════════╪═══════════╪═══════════╡\n",
       "│ 13000      ┆ -1.31201   ┆ 3.271528  ┆ -0.851675 ┆ … ┆ 1      ┆ 765611979 ┆ 1         ┆ 92695_1_7 │\n",
       "│            ┆            ┆           ┆           ┆   ┆        ┆ 90140855  ┆           ┆ 656119799 │\n",
       "│            ┆            ┆           ┆           ┆   ┆        ┆           ┆           ┆ 0140855   │\n",
       "│ 13001      ┆ -1.428982  ┆ -0.622627 ┆ -0.851675 ┆ … ┆ 1      ┆ 765611979 ┆ 0         ┆ 92695_1_7 │\n",
       "│            ┆            ┆           ┆           ┆   ┆        ┆ 90140855  ┆           ┆ 656119799 │\n",
       "│            ┆            ┆           ┆           ┆   ┆        ┆           ┆           ┆ 0140855   │\n",
       "│ 13002      ┆ -1.428982  ┆ -0.622627 ┆ -0.851675 ┆ … ┆ 1      ┆ 765611979 ┆ 0         ┆ 92695_1_7 │\n",
       "│            ┆            ┆           ┆           ┆   ┆        ┆ 90140855  ┆           ┆ 656119799 │\n",
       "│            ┆            ┆           ┆           ┆   ┆        ┆           ┆           ┆ 0140855   │\n",
       "│ 13003      ┆ -1.428982  ┆ -0.622627 ┆ -0.851675 ┆ … ┆ 1      ┆ 765611979 ┆ 0         ┆ 92695_1_7 │\n",
       "│            ┆            ┆           ┆           ┆   ┆        ┆ 90140855  ┆           ┆ 656119799 │\n",
       "│            ┆            ┆           ┆           ┆   ┆        ┆           ┆           ┆ 0140855   │\n",
       "│ 13004      ┆ -1.428982  ┆ -0.622627 ┆ -0.851675 ┆ … ┆ 1      ┆ 765611979 ┆ 0         ┆ 92695_1_7 │\n",
       "│            ┆            ┆           ┆           ┆   ┆        ┆ 90140855  ┆           ┆ 656119799 │\n",
       "│            ┆            ┆           ┆           ┆   ┆        ┆           ┆           ┆ 0140855   │\n",
       "│ …          ┆ …          ┆ …         ┆ …         ┆ … ┆ …      ┆ …         ┆ …         ┆ …         │\n",
       "│ 21025      ┆ -1.428982  ┆ -0.622627 ┆ -0.851675 ┆ … ┆ 3      ┆ 765611980 ┆ 0         ┆ 91602_3_7 │\n",
       "│            ┆            ┆           ┆           ┆   ┆        ┆ 39986599  ┆           ┆ 656119803 │\n",
       "│            ┆            ┆           ┆           ┆   ┆        ┆           ┆           ┆ 9986599   │\n",
       "│ 21026      ┆ -1.428982  ┆ -0.622627 ┆ -0.851675 ┆ … ┆ 3      ┆ 765611980 ┆ 0         ┆ 91602_3_7 │\n",
       "│            ┆            ┆           ┆           ┆   ┆        ┆ 39986599  ┆           ┆ 656119803 │\n",
       "│            ┆            ┆           ┆           ┆   ┆        ┆           ┆           ┆ 9986599   │\n",
       "│ 21027      ┆ -1.428982  ┆ -0.622627 ┆ -0.851675 ┆ … ┆ 3      ┆ 765611980 ┆ 0         ┆ 91602_3_7 │\n",
       "│            ┆            ┆           ┆           ┆   ┆        ┆ 39986599  ┆           ┆ 656119803 │\n",
       "│            ┆            ┆           ┆           ┆   ┆        ┆           ┆           ┆ 9986599   │\n",
       "│ 21028      ┆ -1.428982  ┆ -0.622627 ┆ -0.851675 ┆ … ┆ 3      ┆ 765611980 ┆ 0         ┆ 91602_3_7 │\n",
       "│            ┆            ┆           ┆           ┆   ┆        ┆ 39986599  ┆           ┆ 656119803 │\n",
       "│            ┆            ┆           ┆           ┆   ┆        ┆           ┆           ┆ 9986599   │\n",
       "│ 21029      ┆ -1.428982  ┆ -0.622627 ┆ -0.851675 ┆ … ┆ 3      ┆ 765611980 ┆ 0         ┆ 91602_3_7 │\n",
       "│            ┆            ┆           ┆           ┆   ┆        ┆ 39986599  ┆           ┆ 656119803 │\n",
       "│            ┆            ┆           ┆           ┆   ┆        ┆           ┆           ┆ 9986599   │\n",
       "└────────────┴────────────┴───────────┴───────────┴───┴────────┴───────────┴───────────┴───────────┘"
      ],
      "text/html": [
       "<div><style>\n",
       ".dataframe > thead > tr,\n",
       ".dataframe > tbody > tr {\n",
       "  text-align: right;\n",
       "  white-space: pre-wrap;\n",
       "}\n",
       "</style>\n",
       "<small>shape: (282_378, 113)</small><table border=\"1\" class=\"dataframe\"><thead><tr><th>segment_id</th><th>n_mouse_movements</th><th>mean_total_distance</th><th>std_total_distance</th><th>min_total_distance</th><th>max_total_distance</th><th>sum_total_distance</th><th>mean_straight_distance</th><th>std_straight_distance</th><th>min_straight_distance</th><th>max_straight_distance</th><th>sum_straight_distance</th><th>mean_duration</th><th>std_duration</th><th>min_duration</th><th>max_duration</th><th>sum_duration</th><th>mean_yaw_speed</th><th>mean_pitch_speed</th><th>mean_yaw_speed_acc</th><th>mean_pitch_speed_acc</th><th>std_yaw_speed</th><th>std_pitch_speed</th><th>std_yaw_speed_acc</th><th>std_pitch_speed_acc</th><th>min_yaw_speed</th><th>min_pitch_speed</th><th>min_yaw_speed_acc</th><th>min_pitch_speed_acc</th><th>max_yaw_speed</th><th>max_pitch_speed</th><th>max_yaw_speed_acc</th><th>max_pitch_speed_acc</th><th>keys_down_0</th><th>keys_down_1</th><th>keys_down_2</th><th>keys_down_3</th><th>&hellip;</th><th>sum_is_walking_transition</th><th>min_FORWARD_duration</th><th>max_FORWARD_duration</th><th>mean_FORWARD_duration</th><th>std_FORWARD_duration</th><th>sum_FORWARD_duration</th><th>min_LEFT_duration</th><th>max_LEFT_duration</th><th>mean_LEFT_duration</th><th>std_LEFT_duration</th><th>sum_LEFT_duration</th><th>min_RIGHT_duration</th><th>max_RIGHT_duration</th><th>mean_RIGHT_duration</th><th>std_RIGHT_duration</th><th>sum_RIGHT_duration</th><th>min_BACK_duration</th><th>max_BACK_duration</th><th>mean_BACK_duration</th><th>std_BACK_duration</th><th>sum_BACK_duration</th><th>min_FIRE_duration</th><th>max_FIRE_duration</th><th>mean_FIRE_duration</th><th>std_FIRE_duration</th><th>sum_FIRE_duration</th><th>min_is_walking_duration</th><th>max_is_walking_duration</th><th>mean_is_walking_duration</th><th>std_is_walking_duration</th><th>sum_is_walking_duration</th><th>entropy</th><th>match_id</th><th>map_id</th><th>player_id</th><th>round_restart</th><th>sample_id</th></tr><tr><td>i64</td><td>f64</td><td>f64</td><td>f64</td><td>f64</td><td>f64</td><td>f64</td><td>f64</td><td>f64</td><td>f64</td><td>f64</td><td>f64</td><td>f64</td><td>f64</td><td>f64</td><td>f64</td><td>f64</td><td>f64</td><td>f64</td><td>f64</td><td>f64</td><td>f64</td><td>f64</td><td>f64</td><td>f64</td><td>f64</td><td>f64</td><td>f64</td><td>f64</td><td>f64</td><td>f64</td><td>f64</td><td>f64</td><td>f64</td><td>f64</td><td>f64</td><td>f64</td><td>&hellip;</td><td>f64</td><td>f64</td><td>f64</td><td>f64</td><td>f64</td><td>f64</td><td>f64</td><td>f64</td><td>f64</td><td>f64</td><td>f64</td><td>f64</td><td>f64</td><td>f64</td><td>f64</td><td>f64</td><td>f64</td><td>f64</td><td>f64</td><td>f64</td><td>f64</td><td>f64</td><td>f64</td><td>f64</td><td>f64</td><td>f64</td><td>f64</td><td>f64</td><td>f64</td><td>f64</td><td>f64</td><td>f64</td><td>str</td><td>str</td><td>str</td><td>i64</td><td>str</td></tr></thead><tbody><tr><td>13000</td><td>-1.31201</td><td>3.271528</td><td>-0.851675</td><td>6.255377</td><td>0.280194</td><td>-0.363374</td><td>4.975746</td><td>-0.926248</td><td>10.579194</td><td>0.657735</td><td>-0.237625</td><td>-0.88941</td><td>-1.056682</td><td>0.088706</td><td>-1.102293</td><td>-1.42506</td><td>8.202974</td><td>0.865086</td><td>8.657677</td><td>0.872995</td><td>-0.305648</td><td>-0.315856</td><td>-0.215807</td><td>-0.168984</td><td>0.585954</td><td>0.612719</td><td>0.362481</td><td>0.386675</td><td>3.808738</td><td>0.002185</td><td>4.156369</td><td>0.093708</td><td>1.992893</td><td>-1.376118</td><td>-1.056892</td><td>-0.555376</td><td>&hellip;</td><td>-0.663062</td><td>-0.578468</td><td>-1.005998</td><td>-0.800077</td><td>-0.657541</td><td>-1.144614</td><td>-0.359873</td><td>-0.719238</td><td>-0.605572</td><td>-0.562752</td><td>-0.873136</td><td>-0.341625</td><td>-0.70972</td><td>-0.586059</td><td>-0.56134</td><td>-0.887224</td><td>-0.352092</td><td>-0.461193</td><td>-0.42911</td><td>-0.30264</td><td>-0.625262</td><td>-0.25843</td><td>-0.302984</td><td>-0.286457</td><td>-0.167162</td><td>-0.369818</td><td>-0.437524</td><td>-0.599137</td><td>-0.540582</td><td>-0.392328</td><td>-0.664533</td><td>-0.935214</td><td>&quot;92695&quot;</td><td>&quot;1&quot;</td><td>&quot;76561197990140855&quot;</td><td>1</td><td>&quot;92695_1_76561197990140855&quot;</td></tr><tr><td>13001</td><td>-1.428982</td><td>-0.622627</td><td>-0.851675</td><td>-0.0885</td><td>-0.944075</td><td>-0.92969</td><td>-0.725184</td><td>-0.926248</td><td>-0.104842</td><td>-1.018632</td><td>-0.916893</td><td>-1.099756</td><td>-1.056682</td><td>-0.370319</td><td>-1.164264</td><td>-1.44783</td><td>-0.22762</td><td>-0.195231</td><td>-0.115678</td><td>-0.092446</td><td>-0.305648</td><td>-0.315856</td><td>-0.215807</td><td>-0.168984</td><td>-0.037276</td><td>-0.032139</td><td>0.288543</td><td>0.254068</td><td>-0.496626</td><td>-0.474399</td><td>-0.282546</td><td>-0.275231</td><td>1.992893</td><td>-1.376118</td><td>-1.056892</td><td>-0.555376</td><td>&hellip;</td><td>-0.663062</td><td>-0.578468</td><td>-1.005998</td><td>-0.800077</td><td>-0.657541</td><td>-1.144614</td><td>-0.359873</td><td>-0.719238</td><td>-0.605572</td><td>-0.562752</td><td>-0.873136</td><td>-0.341625</td><td>-0.70972</td><td>-0.586059</td><td>-0.56134</td><td>-0.887224</td><td>-0.352092</td><td>-0.461193</td><td>-0.42911</td><td>-0.30264</td><td>-0.625262</td><td>-0.25843</td><td>-0.302984</td><td>-0.286457</td><td>-0.167162</td><td>-0.369818</td><td>-0.437524</td><td>-0.599137</td><td>-0.540582</td><td>-0.392328</td><td>-0.664533</td><td>-0.935214</td><td>&quot;92695&quot;</td><td>&quot;1&quot;</td><td>&quot;76561197990140855&quot;</td><td>0</td><td>&quot;92695_1_76561197990140855&quot;</td></tr><tr><td>13002</td><td>-1.428982</td><td>-0.622627</td><td>-0.851675</td><td>-0.0885</td><td>-0.944075</td><td>-0.92969</td><td>-0.725184</td><td>-0.926248</td><td>-0.104842</td><td>-1.018632</td><td>-0.916893</td><td>-1.099756</td><td>-1.056682</td><td>-0.370319</td><td>-1.164264</td><td>-1.44783</td><td>-0.22762</td><td>-0.195231</td><td>-0.115678</td><td>-0.092446</td><td>-0.305648</td><td>-0.315856</td><td>-0.215807</td><td>-0.168984</td><td>-0.037276</td><td>-0.032139</td><td>0.288543</td><td>0.254068</td><td>-0.496626</td><td>-0.474399</td><td>-0.282546</td><td>-0.275231</td><td>1.992893</td><td>-1.376118</td><td>-1.056892</td><td>-0.555376</td><td>&hellip;</td><td>-0.663062</td><td>-0.578468</td><td>-1.005998</td><td>-0.800077</td><td>-0.657541</td><td>-1.144614</td><td>-0.359873</td><td>-0.719238</td><td>-0.605572</td><td>-0.562752</td><td>-0.873136</td><td>-0.341625</td><td>-0.70972</td><td>-0.586059</td><td>-0.56134</td><td>-0.887224</td><td>-0.352092</td><td>-0.461193</td><td>-0.42911</td><td>-0.30264</td><td>-0.625262</td><td>-0.25843</td><td>-0.302984</td><td>-0.286457</td><td>-0.167162</td><td>-0.369818</td><td>-0.437524</td><td>-0.599137</td><td>-0.540582</td><td>-0.392328</td><td>-0.664533</td><td>-0.935214</td><td>&quot;92695&quot;</td><td>&quot;1&quot;</td><td>&quot;76561197990140855&quot;</td><td>0</td><td>&quot;92695_1_76561197990140855&quot;</td></tr><tr><td>13003</td><td>-1.428982</td><td>-0.622627</td><td>-0.851675</td><td>-0.0885</td><td>-0.944075</td><td>-0.92969</td><td>-0.725184</td><td>-0.926248</td><td>-0.104842</td><td>-1.018632</td><td>-0.916893</td><td>-1.099756</td><td>-1.056682</td><td>-0.370319</td><td>-1.164264</td><td>-1.44783</td><td>-0.22762</td><td>-0.195231</td><td>-0.115678</td><td>-0.092446</td><td>-0.305648</td><td>-0.315856</td><td>-0.215807</td><td>-0.168984</td><td>-0.037276</td><td>-0.032139</td><td>0.288543</td><td>0.254068</td><td>-0.496626</td><td>-0.474399</td><td>-0.282546</td><td>-0.275231</td><td>1.992893</td><td>-1.376118</td><td>-1.056892</td><td>-0.555376</td><td>&hellip;</td><td>-0.663062</td><td>-0.578468</td><td>-1.005998</td><td>-0.800077</td><td>-0.657541</td><td>-1.144614</td><td>-0.359873</td><td>-0.719238</td><td>-0.605572</td><td>-0.562752</td><td>-0.873136</td><td>-0.341625</td><td>-0.70972</td><td>-0.586059</td><td>-0.56134</td><td>-0.887224</td><td>-0.352092</td><td>-0.461193</td><td>-0.42911</td><td>-0.30264</td><td>-0.625262</td><td>-0.25843</td><td>-0.302984</td><td>-0.286457</td><td>-0.167162</td><td>-0.369818</td><td>-0.437524</td><td>-0.599137</td><td>-0.540582</td><td>-0.392328</td><td>-0.664533</td><td>-0.935214</td><td>&quot;92695&quot;</td><td>&quot;1&quot;</td><td>&quot;76561197990140855&quot;</td><td>0</td><td>&quot;92695_1_76561197990140855&quot;</td></tr><tr><td>13004</td><td>-1.428982</td><td>-0.622627</td><td>-0.851675</td><td>-0.0885</td><td>-0.944075</td><td>-0.92969</td><td>-0.725184</td><td>-0.926248</td><td>-0.104842</td><td>-1.018632</td><td>-0.916893</td><td>-1.099756</td><td>-1.056682</td><td>-0.370319</td><td>-1.164264</td><td>-1.44783</td><td>-0.22762</td><td>-0.195231</td><td>-0.115678</td><td>-0.092446</td><td>-0.305648</td><td>-0.315856</td><td>-0.215807</td><td>-0.168984</td><td>-0.037276</td><td>-0.032139</td><td>0.288543</td><td>0.254068</td><td>-0.496626</td><td>-0.474399</td><td>-0.282546</td><td>-0.275231</td><td>1.992893</td><td>-1.376118</td><td>-1.056892</td><td>-0.555376</td><td>&hellip;</td><td>-0.663062</td><td>-0.578468</td><td>-1.005998</td><td>-0.800077</td><td>-0.657541</td><td>-1.144614</td><td>-0.359873</td><td>-0.719238</td><td>-0.605572</td><td>-0.562752</td><td>-0.873136</td><td>-0.341625</td><td>-0.70972</td><td>-0.586059</td><td>-0.56134</td><td>-0.887224</td><td>-0.352092</td><td>-0.461193</td><td>-0.42911</td><td>-0.30264</td><td>-0.625262</td><td>-0.25843</td><td>-0.302984</td><td>-0.286457</td><td>-0.167162</td><td>-0.369818</td><td>-0.437524</td><td>-0.599137</td><td>-0.540582</td><td>-0.392328</td><td>-0.664533</td><td>-0.935214</td><td>&quot;92695&quot;</td><td>&quot;1&quot;</td><td>&quot;76561197990140855&quot;</td><td>0</td><td>&quot;92695_1_76561197990140855&quot;</td></tr><tr><td>&hellip;</td><td>&hellip;</td><td>&hellip;</td><td>&hellip;</td><td>&hellip;</td><td>&hellip;</td><td>&hellip;</td><td>&hellip;</td><td>&hellip;</td><td>&hellip;</td><td>&hellip;</td><td>&hellip;</td><td>&hellip;</td><td>&hellip;</td><td>&hellip;</td><td>&hellip;</td><td>&hellip;</td><td>&hellip;</td><td>&hellip;</td><td>&hellip;</td><td>&hellip;</td><td>&hellip;</td><td>&hellip;</td><td>&hellip;</td><td>&hellip;</td><td>&hellip;</td><td>&hellip;</td><td>&hellip;</td><td>&hellip;</td><td>&hellip;</td><td>&hellip;</td><td>&hellip;</td><td>&hellip;</td><td>&hellip;</td><td>&hellip;</td><td>&hellip;</td><td>&hellip;</td><td>&hellip;</td><td>&hellip;</td><td>&hellip;</td><td>&hellip;</td><td>&hellip;</td><td>&hellip;</td><td>&hellip;</td><td>&hellip;</td><td>&hellip;</td><td>&hellip;</td><td>&hellip;</td><td>&hellip;</td><td>&hellip;</td><td>&hellip;</td><td>&hellip;</td><td>&hellip;</td><td>&hellip;</td><td>&hellip;</td><td>&hellip;</td><td>&hellip;</td><td>&hellip;</td><td>&hellip;</td><td>&hellip;</td><td>&hellip;</td><td>&hellip;</td><td>&hellip;</td><td>&hellip;</td><td>&hellip;</td><td>&hellip;</td><td>&hellip;</td><td>&hellip;</td><td>&hellip;</td><td>&hellip;</td><td>&hellip;</td><td>&hellip;</td><td>&hellip;</td><td>&hellip;</td><td>&hellip;</td></tr><tr><td>21025</td><td>-1.428982</td><td>-0.622627</td><td>-0.851675</td><td>-0.0885</td><td>-0.944075</td><td>-0.92969</td><td>-0.725184</td><td>-0.926248</td><td>-0.104842</td><td>-1.018632</td><td>-0.916893</td><td>-1.099756</td><td>-1.056682</td><td>-0.370319</td><td>-1.164264</td><td>-1.44783</td><td>-0.22762</td><td>-0.195231</td><td>-0.115678</td><td>-0.092446</td><td>-0.305648</td><td>-0.315856</td><td>-0.215807</td><td>-0.168984</td><td>-0.037276</td><td>-0.032139</td><td>0.288543</td><td>0.254068</td><td>-0.496626</td><td>-0.474399</td><td>-0.282546</td><td>-0.275231</td><td>1.992893</td><td>-1.376118</td><td>-1.056892</td><td>-0.555376</td><td>&hellip;</td><td>-0.663062</td><td>-0.578468</td><td>-1.005998</td><td>-0.800077</td><td>-0.657541</td><td>-1.144614</td><td>-0.359873</td><td>-0.719238</td><td>-0.605572</td><td>-0.562752</td><td>-0.873136</td><td>-0.341625</td><td>-0.70972</td><td>-0.586059</td><td>-0.56134</td><td>-0.887224</td><td>-0.352092</td><td>-0.461193</td><td>-0.42911</td><td>-0.30264</td><td>-0.625262</td><td>-0.25843</td><td>-0.302984</td><td>-0.286457</td><td>-0.167162</td><td>-0.369818</td><td>-0.437524</td><td>-0.599137</td><td>-0.540582</td><td>-0.392328</td><td>-0.664533</td><td>-0.935214</td><td>&quot;91602&quot;</td><td>&quot;3&quot;</td><td>&quot;76561198039986599&quot;</td><td>0</td><td>&quot;91602_3_76561198039986599&quot;</td></tr><tr><td>21026</td><td>-1.428982</td><td>-0.622627</td><td>-0.851675</td><td>-0.0885</td><td>-0.944075</td><td>-0.92969</td><td>-0.725184</td><td>-0.926248</td><td>-0.104842</td><td>-1.018632</td><td>-0.916893</td><td>-1.099756</td><td>-1.056682</td><td>-0.370319</td><td>-1.164264</td><td>-1.44783</td><td>-0.22762</td><td>-0.195231</td><td>-0.115678</td><td>-0.092446</td><td>-0.305648</td><td>-0.315856</td><td>-0.215807</td><td>-0.168984</td><td>-0.037276</td><td>-0.032139</td><td>0.288543</td><td>0.254068</td><td>-0.496626</td><td>-0.474399</td><td>-0.282546</td><td>-0.275231</td><td>1.992893</td><td>-1.376118</td><td>-1.056892</td><td>-0.555376</td><td>&hellip;</td><td>-0.663062</td><td>-0.578468</td><td>-1.005998</td><td>-0.800077</td><td>-0.657541</td><td>-1.144614</td><td>-0.359873</td><td>-0.719238</td><td>-0.605572</td><td>-0.562752</td><td>-0.873136</td><td>-0.341625</td><td>-0.70972</td><td>-0.586059</td><td>-0.56134</td><td>-0.887224</td><td>-0.352092</td><td>-0.461193</td><td>-0.42911</td><td>-0.30264</td><td>-0.625262</td><td>-0.25843</td><td>-0.302984</td><td>-0.286457</td><td>-0.167162</td><td>-0.369818</td><td>-0.437524</td><td>-0.599137</td><td>-0.540582</td><td>-0.392328</td><td>-0.664533</td><td>-0.935214</td><td>&quot;91602&quot;</td><td>&quot;3&quot;</td><td>&quot;76561198039986599&quot;</td><td>0</td><td>&quot;91602_3_76561198039986599&quot;</td></tr><tr><td>21027</td><td>-1.428982</td><td>-0.622627</td><td>-0.851675</td><td>-0.0885</td><td>-0.944075</td><td>-0.92969</td><td>-0.725184</td><td>-0.926248</td><td>-0.104842</td><td>-1.018632</td><td>-0.916893</td><td>-1.099756</td><td>-1.056682</td><td>-0.370319</td><td>-1.164264</td><td>-1.44783</td><td>-0.22762</td><td>-0.195231</td><td>-0.115678</td><td>-0.092446</td><td>-0.305648</td><td>-0.315856</td><td>-0.215807</td><td>-0.168984</td><td>-0.037276</td><td>-0.032139</td><td>0.288543</td><td>0.254068</td><td>-0.496626</td><td>-0.474399</td><td>-0.282546</td><td>-0.275231</td><td>1.992893</td><td>-1.376118</td><td>-1.056892</td><td>-0.555376</td><td>&hellip;</td><td>-0.663062</td><td>-0.578468</td><td>-1.005998</td><td>-0.800077</td><td>-0.657541</td><td>-1.144614</td><td>-0.359873</td><td>-0.719238</td><td>-0.605572</td><td>-0.562752</td><td>-0.873136</td><td>-0.341625</td><td>-0.70972</td><td>-0.586059</td><td>-0.56134</td><td>-0.887224</td><td>-0.352092</td><td>-0.461193</td><td>-0.42911</td><td>-0.30264</td><td>-0.625262</td><td>-0.25843</td><td>-0.302984</td><td>-0.286457</td><td>-0.167162</td><td>-0.369818</td><td>-0.437524</td><td>-0.599137</td><td>-0.540582</td><td>-0.392328</td><td>-0.664533</td><td>-0.935214</td><td>&quot;91602&quot;</td><td>&quot;3&quot;</td><td>&quot;76561198039986599&quot;</td><td>0</td><td>&quot;91602_3_76561198039986599&quot;</td></tr><tr><td>21028</td><td>-1.428982</td><td>-0.622627</td><td>-0.851675</td><td>-0.0885</td><td>-0.944075</td><td>-0.92969</td><td>-0.725184</td><td>-0.926248</td><td>-0.104842</td><td>-1.018632</td><td>-0.916893</td><td>-1.099756</td><td>-1.056682</td><td>-0.370319</td><td>-1.164264</td><td>-1.44783</td><td>-0.22762</td><td>-0.195231</td><td>-0.115678</td><td>-0.092446</td><td>-0.305648</td><td>-0.315856</td><td>-0.215807</td><td>-0.168984</td><td>-0.037276</td><td>-0.032139</td><td>0.288543</td><td>0.254068</td><td>-0.496626</td><td>-0.474399</td><td>-0.282546</td><td>-0.275231</td><td>1.992893</td><td>-1.376118</td><td>-1.056892</td><td>-0.555376</td><td>&hellip;</td><td>-0.663062</td><td>-0.578468</td><td>-1.005998</td><td>-0.800077</td><td>-0.657541</td><td>-1.144614</td><td>-0.359873</td><td>-0.719238</td><td>-0.605572</td><td>-0.562752</td><td>-0.873136</td><td>-0.341625</td><td>-0.70972</td><td>-0.586059</td><td>-0.56134</td><td>-0.887224</td><td>-0.352092</td><td>-0.461193</td><td>-0.42911</td><td>-0.30264</td><td>-0.625262</td><td>-0.25843</td><td>-0.302984</td><td>-0.286457</td><td>-0.167162</td><td>-0.369818</td><td>-0.437524</td><td>-0.599137</td><td>-0.540582</td><td>-0.392328</td><td>-0.664533</td><td>-0.935214</td><td>&quot;91602&quot;</td><td>&quot;3&quot;</td><td>&quot;76561198039986599&quot;</td><td>0</td><td>&quot;91602_3_76561198039986599&quot;</td></tr><tr><td>21029</td><td>-1.428982</td><td>-0.622627</td><td>-0.851675</td><td>-0.0885</td><td>-0.944075</td><td>-0.92969</td><td>-0.725184</td><td>-0.926248</td><td>-0.104842</td><td>-1.018632</td><td>-0.916893</td><td>-1.099756</td><td>-1.056682</td><td>-0.370319</td><td>-1.164264</td><td>-1.44783</td><td>-0.22762</td><td>-0.195231</td><td>-0.115678</td><td>-0.092446</td><td>-0.305648</td><td>-0.315856</td><td>-0.215807</td><td>-0.168984</td><td>-0.037276</td><td>-0.032139</td><td>0.288543</td><td>0.254068</td><td>-0.496626</td><td>-0.474399</td><td>-0.282546</td><td>-0.275231</td><td>1.992893</td><td>-1.376118</td><td>-1.056892</td><td>-0.555376</td><td>&hellip;</td><td>-0.663062</td><td>-0.578468</td><td>-1.005998</td><td>-0.800077</td><td>-0.657541</td><td>-1.144614</td><td>-0.359873</td><td>-0.719238</td><td>-0.605572</td><td>-0.562752</td><td>-0.873136</td><td>-0.341625</td><td>-0.70972</td><td>-0.586059</td><td>-0.56134</td><td>-0.887224</td><td>-0.352092</td><td>-0.461193</td><td>-0.42911</td><td>-0.30264</td><td>-0.625262</td><td>-0.25843</td><td>-0.302984</td><td>-0.286457</td><td>-0.167162</td><td>-0.369818</td><td>-0.437524</td><td>-0.599137</td><td>-0.540582</td><td>-0.392328</td><td>-0.664533</td><td>-0.935214</td><td>&quot;91602&quot;</td><td>&quot;3&quot;</td><td>&quot;76561198039986599&quot;</td><td>0</td><td>&quot;91602_3_76561198039986599&quot;</td></tr></tbody></table></div>"
      ]
     },
     "execution_count": 163,
     "metadata": {},
     "output_type": "execute_result"
    }
   ],
   "execution_count": 163
  },
  {
   "metadata": {
    "ExecuteTime": {
     "end_time": "2025-03-13T20:33:51.441677Z",
     "start_time": "2025-03-13T20:33:51.240732Z"
    }
   },
   "cell_type": "code",
   "source": [
    "def random_sample(data: pl.DataFrame, n_players: int = 2, n_samples: int = 2):\n",
    "    selected_players = (\n",
    "        data\n",
    "        .select(\"player_id\")\n",
    "        .unique()\n",
    "        .sample(n_players)\n",
    "    )\n",
    "\n",
    "    samples = []\n",
    "    for (player,) in selected_players.iter_rows():\n",
    "        player_sample_ids = (\n",
    "            data\n",
    "            .filter(pl.col(\"player_id\") == player)\n",
    "            .select(\"sample_id\")\n",
    "            .unique()\n",
    "            .sample(n_samples)\n",
    "        )\n",
    "        player_samples = (\n",
    "            data\n",
    "            .filter(pl.col(\"sample_id\").is_in(player_sample_ids))\n",
    "        )\n",
    "        samples.append(player_samples)\n",
    "\n",
    "    samples = pl.concat(samples)\n",
    "    return samples\n",
    "\n",
    "\n",
    "random_sample(train_data_scaled, n_players=2, n_samples=2)"
   ],
   "id": "8168c9c1ce09dee8",
   "outputs": [
    {
     "data": {
      "text/plain": [
       "shape: (1_048, 113)\n",
       "┌────────────┬────────────┬───────────┬───────────┬───┬────────┬───────────┬───────────┬───────────┐\n",
       "│ segment_id ┆ n_mouse_mo ┆ mean_tota ┆ std_total ┆ … ┆ map_id ┆ player_id ┆ round_res ┆ sample_id │\n",
       "│ ---        ┆ vements    ┆ l_distanc ┆ _distance ┆   ┆ ---    ┆ ---       ┆ tart      ┆ ---       │\n",
       "│ i64        ┆ ---        ┆ e         ┆ ---       ┆   ┆ str    ┆ str       ┆ ---       ┆ str       │\n",
       "│            ┆ f64        ┆ ---       ┆ f64       ┆   ┆        ┆           ┆ i64       ┆           │\n",
       "│            ┆            ┆ f64       ┆           ┆   ┆        ┆           ┆           ┆           │\n",
       "╞════════════╪════════════╪═══════════╪═══════════╪═══╪════════╪═══════════╪═══════════╪═══════════╡\n",
       "│ 1000       ┆ -0.142288  ┆ -0.029172 ┆ -0.044088 ┆ … ┆ 2      ┆ 765611982 ┆ 0         ┆ 93110_2_7 │\n",
       "│            ┆            ┆           ┆           ┆   ┆        ┆ 58044780  ┆           ┆ 656119825 │\n",
       "│            ┆            ┆           ┆           ┆   ┆        ┆           ┆           ┆ 8044780   │\n",
       "│ 1001       ┆ -0.376233  ┆ -0.183494 ┆ 0.18504   ┆ … ┆ 2      ┆ 765611982 ┆ 0         ┆ 93110_2_7 │\n",
       "│            ┆            ┆           ┆           ┆   ┆        ┆ 58044780  ┆           ┆ 656119825 │\n",
       "│            ┆            ┆           ┆           ┆   ┆        ┆           ┆           ┆ 8044780   │\n",
       "│ 1002       ┆ -1.195038  ┆ 0.281113  ┆ -0.102508 ┆ … ┆ 2      ┆ 765611982 ┆ 0         ┆ 93110_2_7 │\n",
       "│            ┆            ┆           ┆           ┆   ┆        ┆ 58044780  ┆           ┆ 656119825 │\n",
       "│            ┆            ┆           ┆           ┆   ┆        ┆           ┆           ┆ 8044780   │\n",
       "│ 1003       ┆ -1.428982  ┆ -0.622627 ┆ -0.851675 ┆ … ┆ 2      ┆ 765611982 ┆ 0         ┆ 93110_2_7 │\n",
       "│            ┆            ┆           ┆           ┆   ┆        ┆ 58044780  ┆           ┆ 656119825 │\n",
       "│            ┆            ┆           ┆           ┆   ┆        ┆           ┆           ┆ 8044780   │\n",
       "│ 1004       ┆ -1.428982  ┆ -0.622627 ┆ -0.851675 ┆ … ┆ 2      ┆ 765611982 ┆ 0         ┆ 93110_2_7 │\n",
       "│            ┆            ┆           ┆           ┆   ┆        ┆ 58044780  ┆           ┆ 656119825 │\n",
       "│            ┆            ┆           ┆           ┆   ┆        ┆           ┆           ┆ 8044780   │\n",
       "│ …          ┆ …          ┆ …         ┆ …         ┆ … ┆ …      ┆ …         ┆ …         ┆ …         │\n",
       "│ 27023      ┆ 1.37835    ┆ -0.232856 ┆ -0.43283  ┆ … ┆ 0      ┆ 765611980 ┆ 0         ┆ 90820_0_7 │\n",
       "│            ┆            ┆           ┆           ┆   ┆        ┆ 58500492  ┆           ┆ 656119805 │\n",
       "│            ┆            ┆           ┆           ┆   ┆        ┆           ┆           ┆ 8500492   │\n",
       "│ 27024      ┆ 1.37835    ┆ -0.286784 ┆ -0.436741 ┆ … ┆ 0      ┆ 765611980 ┆ 0         ┆ 90820_0_7 │\n",
       "│            ┆            ┆           ┆           ┆   ┆        ┆ 58500492  ┆           ┆ 656119805 │\n",
       "│            ┆            ┆           ┆           ┆   ┆        ┆           ┆           ┆ 8500492   │\n",
       "│ 27025      ┆ -0.610177  ┆ 0.618069  ┆ 0.37158   ┆ … ┆ 0      ┆ 765611980 ┆ 0         ┆ 90820_0_7 │\n",
       "│            ┆            ┆           ┆           ┆   ┆        ┆ 58500492  ┆           ┆ 656119805 │\n",
       "│            ┆            ┆           ┆           ┆   ┆        ┆           ┆           ┆ 8500492   │\n",
       "│ 27026      ┆ 1.96321    ┆ -0.380733 ┆ -0.438204 ┆ … ┆ 0      ┆ 765611980 ┆ 0         ┆ 90820_0_7 │\n",
       "│            ┆            ┆           ┆           ┆   ┆        ┆ 58500492  ┆           ┆ 656119805 │\n",
       "│            ┆            ┆           ┆           ┆   ┆        ┆           ┆           ┆ 8500492   │\n",
       "│ 27027      ┆ 2.314127   ┆ -0.535676 ┆ -0.53502  ┆ … ┆ 0      ┆ 765611980 ┆ 0         ┆ 90820_0_7 │\n",
       "│            ┆            ┆           ┆           ┆   ┆        ┆ 58500492  ┆           ┆ 656119805 │\n",
       "│            ┆            ┆           ┆           ┆   ┆        ┆           ┆           ┆ 8500492   │\n",
       "└────────────┴────────────┴───────────┴───────────┴───┴────────┴───────────┴───────────┴───────────┘"
      ],
      "text/html": [
       "<div><style>\n",
       ".dataframe > thead > tr,\n",
       ".dataframe > tbody > tr {\n",
       "  text-align: right;\n",
       "  white-space: pre-wrap;\n",
       "}\n",
       "</style>\n",
       "<small>shape: (1_048, 113)</small><table border=\"1\" class=\"dataframe\"><thead><tr><th>segment_id</th><th>n_mouse_movements</th><th>mean_total_distance</th><th>std_total_distance</th><th>min_total_distance</th><th>max_total_distance</th><th>sum_total_distance</th><th>mean_straight_distance</th><th>std_straight_distance</th><th>min_straight_distance</th><th>max_straight_distance</th><th>sum_straight_distance</th><th>mean_duration</th><th>std_duration</th><th>min_duration</th><th>max_duration</th><th>sum_duration</th><th>mean_yaw_speed</th><th>mean_pitch_speed</th><th>mean_yaw_speed_acc</th><th>mean_pitch_speed_acc</th><th>std_yaw_speed</th><th>std_pitch_speed</th><th>std_yaw_speed_acc</th><th>std_pitch_speed_acc</th><th>min_yaw_speed</th><th>min_pitch_speed</th><th>min_yaw_speed_acc</th><th>min_pitch_speed_acc</th><th>max_yaw_speed</th><th>max_pitch_speed</th><th>max_yaw_speed_acc</th><th>max_pitch_speed_acc</th><th>keys_down_0</th><th>keys_down_1</th><th>keys_down_2</th><th>keys_down_3</th><th>&hellip;</th><th>sum_is_walking_transition</th><th>min_FORWARD_duration</th><th>max_FORWARD_duration</th><th>mean_FORWARD_duration</th><th>std_FORWARD_duration</th><th>sum_FORWARD_duration</th><th>min_LEFT_duration</th><th>max_LEFT_duration</th><th>mean_LEFT_duration</th><th>std_LEFT_duration</th><th>sum_LEFT_duration</th><th>min_RIGHT_duration</th><th>max_RIGHT_duration</th><th>mean_RIGHT_duration</th><th>std_RIGHT_duration</th><th>sum_RIGHT_duration</th><th>min_BACK_duration</th><th>max_BACK_duration</th><th>mean_BACK_duration</th><th>std_BACK_duration</th><th>sum_BACK_duration</th><th>min_FIRE_duration</th><th>max_FIRE_duration</th><th>mean_FIRE_duration</th><th>std_FIRE_duration</th><th>sum_FIRE_duration</th><th>min_is_walking_duration</th><th>max_is_walking_duration</th><th>mean_is_walking_duration</th><th>std_is_walking_duration</th><th>sum_is_walking_duration</th><th>entropy</th><th>match_id</th><th>map_id</th><th>player_id</th><th>round_restart</th><th>sample_id</th></tr><tr><td>i64</td><td>f64</td><td>f64</td><td>f64</td><td>f64</td><td>f64</td><td>f64</td><td>f64</td><td>f64</td><td>f64</td><td>f64</td><td>f64</td><td>f64</td><td>f64</td><td>f64</td><td>f64</td><td>f64</td><td>f64</td><td>f64</td><td>f64</td><td>f64</td><td>f64</td><td>f64</td><td>f64</td><td>f64</td><td>f64</td><td>f64</td><td>f64</td><td>f64</td><td>f64</td><td>f64</td><td>f64</td><td>f64</td><td>f64</td><td>f64</td><td>f64</td><td>f64</td><td>&hellip;</td><td>f64</td><td>f64</td><td>f64</td><td>f64</td><td>f64</td><td>f64</td><td>f64</td><td>f64</td><td>f64</td><td>f64</td><td>f64</td><td>f64</td><td>f64</td><td>f64</td><td>f64</td><td>f64</td><td>f64</td><td>f64</td><td>f64</td><td>f64</td><td>f64</td><td>f64</td><td>f64</td><td>f64</td><td>f64</td><td>f64</td><td>f64</td><td>f64</td><td>f64</td><td>f64</td><td>f64</td><td>f64</td><td>str</td><td>str</td><td>str</td><td>i64</td><td>str</td></tr></thead><tbody><tr><td>1000</td><td>-0.142288</td><td>-0.029172</td><td>-0.044088</td><td>-0.0885</td><td>-0.096046</td><td>0.105965</td><td>0.325385</td><td>0.439482</td><td>-0.104842</td><td>0.256445</td><td>0.585216</td><td>-0.411351</td><td>-0.305276</td><td>-0.140807</td><td>-0.575536</td><td>-0.62812</td><td>0.435725</td><td>0.047307</td><td>0.483064</td><td>0.129258</td><td>-0.142664</td><td>-0.090769</td><td>-0.130876</td><td>-0.088234</td><td>-0.037276</td><td>-0.032139</td><td>-11.273834</td><td>-5.698547</td><td>1.201879</td><td>0.040956</td><td>1.514052</td><td>0.30513</td><td>1.42726</td><td>-0.739577</td><td>-1.012733</td><td>-0.555376</td><td>&hellip;</td><td>-0.663062</td><td>0.101651</td><td>-0.350518</td><td>-0.100875</td><td>-0.657541</td><td>-0.626065</td><td>-0.359873</td><td>-0.719238</td><td>-0.605572</td><td>-0.562752</td><td>-0.873136</td><td>-0.341625</td><td>-0.70972</td><td>-0.586059</td><td>-0.56134</td><td>-0.887224</td><td>-0.352092</td><td>-0.461193</td><td>-0.42911</td><td>-0.30264</td><td>-0.625262</td><td>-0.126803</td><td>-0.18743</td><td>-0.159615</td><td>-0.167162</td><td>0.443393</td><td>-0.437524</td><td>-0.599137</td><td>-0.540582</td><td>-0.392328</td><td>-0.664533</td><td>-0.924756</td><td>&quot;93110&quot;</td><td>&quot;2&quot;</td><td>&quot;76561198258044780&quot;</td><td>0</td><td>&quot;93110_2_76561198258044780&quot;</td></tr><tr><td>1001</td><td>-0.376233</td><td>-0.183494</td><td>0.18504</td><td>-0.085906</td><td>0.188845</td><td>-0.354933</td><td>-0.073309</td><td>0.525429</td><td>-0.104842</td><td>0.568498</td><td>-0.217853</td><td>-0.199943</td><td>0.077066</td><td>-0.140807</td><td>0.044177</td><td>-0.571195</td><td>-0.165134</td><td>-0.133835</td><td>-0.11387</td><td>-0.079291</td><td>-0.139854</td><td>-0.216781</td><td>-0.160971</td><td>-0.128071</td><td>-0.037276</td><td>-0.032139</td><td>-0.047816</td><td>0.115372</td><td>-0.207175</td><td>-0.333891</td><td>-0.205507</td><td>-0.19612</td><td>0.734305</td><td>0.108781</td><td>-1.056892</td><td>-0.555376</td><td>&hellip;</td><td>-0.663062</td><td>0.949184</td><td>0.466312</td><td>0.77044</td><td>-0.657541</td><td>-0.626065</td><td>-0.359873</td><td>-0.719238</td><td>-0.605572</td><td>-0.562752</td><td>-0.873136</td><td>-0.341625</td><td>-0.70972</td><td>-0.586059</td><td>-0.56134</td><td>-0.887224</td><td>-0.352092</td><td>-0.461193</td><td>-0.42911</td><td>-0.30264</td><td>-0.625262</td><td>-0.25843</td><td>-0.302984</td><td>-0.286457</td><td>-0.167162</td><td>-0.369818</td><td>-0.437524</td><td>-0.599137</td><td>-0.540582</td><td>-0.392328</td><td>-0.664533</td><td>-0.935214</td><td>&quot;93110&quot;</td><td>&quot;2&quot;</td><td>&quot;76561198258044780&quot;</td><td>0</td><td>&quot;93110_2_76561198258044780&quot;</td></tr><tr><td>1002</td><td>-1.195038</td><td>0.281113</td><td>-0.102508</td><td>0.394569</td><td>-0.469053</td><td>-0.666834</td><td>0.60528</td><td>0.132413</td><td>0.666489</td><td>-0.357207</td><td>-0.599842</td><td>0.583011</td><td>-0.52731</td><td>2.38383</td><td>-0.54455</td><td>-1.083514</td><td>-0.019353</td><td>0.094278</td><td>-0.113474</td><td>-0.085673</td><td>-0.165978</td><td>0.056062</td><td>-0.181332</td><td>-0.089702</td><td>-0.026833</td><td>-0.032139</td><td>0.184751</td><td>0.080451</td><td>-0.31822</td><td>-0.146465</td><td>-0.234414</td><td>-0.169692</td><td>-0.765657</td><td>1.878454</td><td>-1.056892</td><td>-0.555376</td><td>&hellip;</td><td>-0.663062</td><td>2.769809</td><td>2.220983</td><td>2.642152</td><td>-0.657541</td><td>-0.626065</td><td>-0.359873</td><td>-0.719238</td><td>-0.605572</td><td>-0.562752</td><td>-0.873136</td><td>-0.341625</td><td>-0.70972</td><td>-0.586059</td><td>-0.56134</td><td>-0.887224</td><td>-0.352092</td><td>-0.461193</td><td>-0.42911</td><td>-0.30264</td><td>-0.625262</td><td>-0.25843</td><td>-0.302984</td><td>-0.286457</td><td>-0.167162</td><td>-0.369818</td><td>-0.437524</td><td>-0.599137</td><td>-0.540582</td><td>-0.392328</td><td>-0.664533</td><td>-0.935214</td><td>&quot;93110&quot;</td><td>&quot;2&quot;</td><td>&quot;76561198258044780&quot;</td><td>0</td><td>&quot;93110_2_76561198258044780&quot;</td></tr><tr><td>1003</td><td>-1.428982</td><td>-0.622627</td><td>-0.851675</td><td>-0.0885</td><td>-0.944075</td><td>-0.92969</td><td>-0.725184</td><td>-0.926248</td><td>-0.104842</td><td>-1.018632</td><td>-0.916893</td><td>-1.099756</td><td>-1.056682</td><td>-0.370319</td><td>-1.164264</td><td>-1.44783</td><td>-0.22762</td><td>-0.195231</td><td>-0.115678</td><td>-0.092446</td><td>-0.305648</td><td>-0.315856</td><td>-0.215807</td><td>-0.168984</td><td>-0.037276</td><td>-0.032139</td><td>0.288543</td><td>0.254068</td><td>-0.496626</td><td>-0.474399</td><td>-0.282546</td><td>-0.275231</td><td>-0.765657</td><td>1.878454</td><td>-1.056892</td><td>-0.555376</td><td>&hellip;</td><td>-0.663062</td><td>2.769809</td><td>2.220983</td><td>2.642152</td><td>-0.657541</td><td>-0.626065</td><td>-0.359873</td><td>-0.719238</td><td>-0.605572</td><td>-0.562752</td><td>-0.873136</td><td>-0.341625</td><td>-0.70972</td><td>-0.586059</td><td>-0.56134</td><td>-0.887224</td><td>-0.352092</td><td>-0.461193</td><td>-0.42911</td><td>-0.30264</td><td>-0.625262</td><td>-0.25843</td><td>-0.302984</td><td>-0.286457</td><td>-0.167162</td><td>-0.369818</td><td>-0.437524</td><td>-0.599137</td><td>-0.540582</td><td>-0.392328</td><td>-0.664533</td><td>-0.935214</td><td>&quot;93110&quot;</td><td>&quot;2&quot;</td><td>&quot;76561198258044780&quot;</td><td>0</td><td>&quot;93110_2_76561198258044780&quot;</td></tr><tr><td>1004</td><td>-1.428982</td><td>-0.622627</td><td>-0.851675</td><td>-0.0885</td><td>-0.944075</td><td>-0.92969</td><td>-0.725184</td><td>-0.926248</td><td>-0.104842</td><td>-1.018632</td><td>-0.916893</td><td>-1.099756</td><td>-1.056682</td><td>-0.370319</td><td>-1.164264</td><td>-1.44783</td><td>-0.22762</td><td>-0.195231</td><td>-0.115678</td><td>-0.092446</td><td>-0.305648</td><td>-0.315856</td><td>-0.215807</td><td>-0.168984</td><td>-0.037276</td><td>-0.032139</td><td>0.288543</td><td>0.254068</td><td>-0.496626</td><td>-0.474399</td><td>-0.282546</td><td>-0.275231</td><td>-0.765657</td><td>1.878454</td><td>-1.056892</td><td>-0.555376</td><td>&hellip;</td><td>-0.663062</td><td>2.769809</td><td>2.220983</td><td>2.642152</td><td>-0.657541</td><td>-0.626065</td><td>-0.359873</td><td>-0.719238</td><td>-0.605572</td><td>-0.562752</td><td>-0.873136</td><td>-0.341625</td><td>-0.70972</td><td>-0.586059</td><td>-0.56134</td><td>-0.887224</td><td>-0.352092</td><td>-0.461193</td><td>-0.42911</td><td>-0.30264</td><td>-0.625262</td><td>-0.25843</td><td>-0.302984</td><td>-0.286457</td><td>-0.167162</td><td>-0.369818</td><td>-0.437524</td><td>-0.599137</td><td>-0.540582</td><td>-0.392328</td><td>-0.664533</td><td>-0.935214</td><td>&quot;93110&quot;</td><td>&quot;2&quot;</td><td>&quot;76561198258044780&quot;</td><td>0</td><td>&quot;93110_2_76561198258044780&quot;</td></tr><tr><td>&hellip;</td><td>&hellip;</td><td>&hellip;</td><td>&hellip;</td><td>&hellip;</td><td>&hellip;</td><td>&hellip;</td><td>&hellip;</td><td>&hellip;</td><td>&hellip;</td><td>&hellip;</td><td>&hellip;</td><td>&hellip;</td><td>&hellip;</td><td>&hellip;</td><td>&hellip;</td><td>&hellip;</td><td>&hellip;</td><td>&hellip;</td><td>&hellip;</td><td>&hellip;</td><td>&hellip;</td><td>&hellip;</td><td>&hellip;</td><td>&hellip;</td><td>&hellip;</td><td>&hellip;</td><td>&hellip;</td><td>&hellip;</td><td>&hellip;</td><td>&hellip;</td><td>&hellip;</td><td>&hellip;</td><td>&hellip;</td><td>&hellip;</td><td>&hellip;</td><td>&hellip;</td><td>&hellip;</td><td>&hellip;</td><td>&hellip;</td><td>&hellip;</td><td>&hellip;</td><td>&hellip;</td><td>&hellip;</td><td>&hellip;</td><td>&hellip;</td><td>&hellip;</td><td>&hellip;</td><td>&hellip;</td><td>&hellip;</td><td>&hellip;</td><td>&hellip;</td><td>&hellip;</td><td>&hellip;</td><td>&hellip;</td><td>&hellip;</td><td>&hellip;</td><td>&hellip;</td><td>&hellip;</td><td>&hellip;</td><td>&hellip;</td><td>&hellip;</td><td>&hellip;</td><td>&hellip;</td><td>&hellip;</td><td>&hellip;</td><td>&hellip;</td><td>&hellip;</td><td>&hellip;</td><td>&hellip;</td><td>&hellip;</td><td>&hellip;</td><td>&hellip;</td><td>&hellip;</td><td>&hellip;</td></tr><tr><td>27023</td><td>1.37835</td><td>-0.232856</td><td>-0.43283</td><td>-0.084113</td><td>-0.44798</td><td>0.430711</td><td>-0.172764</td><td>-0.373184</td><td>-0.104842</td><td>-0.366241</td><td>0.662811</td><td>-0.03488</td><td>-0.136336</td><td>-0.140807</td><td>0.013192</td><td>1.318692</td><td>-0.101563</td><td>-0.155155</td><td>-0.110997</td><td>-0.083715</td><td>-0.126426</td><td>-0.241896</td><td>-0.111978</td><td>-0.11462</td><td>-0.037276</td><td>-0.032139</td><td>-0.03856</td><td>0.10863</td><td>-0.160948</td><td>-0.356598</td><td>-0.163109</td><td>-0.186719</td><td>-0.696693</td><td>0.66816</td><td>0.561688</td><td>-0.555376</td><td>&hellip;</td><td>-0.663062</td><td>-0.473834</td><td>-0.763975</td><td>-0.619898</td><td>-0.505482</td><td>0.929579</td><td>0.106751</td><td>1.44046</td><td>0.930561</td><td>1.187817</td><td>0.642478</td><td>0.448687</td><td>0.187946</td><td>0.504615</td><td>-0.015128</td><td>-0.0222</td><td>-0.10786</td><td>1.102753</td><td>0.628625</td><td>2.322894</td><td>0.933803</td><td>-0.25843</td><td>-0.302984</td><td>-0.286457</td><td>-0.167162</td><td>-0.369818</td><td>-0.437524</td><td>-0.599137</td><td>-0.540582</td><td>-0.392328</td><td>-0.664533</td><td>0.340555</td><td>&quot;90820&quot;</td><td>&quot;0&quot;</td><td>&quot;76561198058500492&quot;</td><td>0</td><td>&quot;90820_0_76561198058500492&quot;</td></tr><tr><td>27024</td><td>1.37835</td><td>-0.286784</td><td>-0.436741</td><td>-0.084137</td><td>-0.434701</td><td>0.242487</td><td>-0.23411</td><td>-0.347996</td><td>-0.104842</td><td>-0.304612</td><td>0.487387</td><td>-0.161964</td><td>-0.13526</td><td>-0.140807</td><td>0.106149</td><td>0.988531</td><td>-0.096039</td><td>-0.157021</td><td>-0.108964</td><td>-0.086872</td><td>-0.117523</td><td>-0.236489</td><td>-0.102989</td><td>-0.117023</td><td>-0.037276</td><td>-0.032139</td><td>0.003128</td><td>0.10863</td><td>-0.118219</td><td>-0.336947</td><td>-0.14374</td><td>-0.208954</td><td>-0.541525</td><td>-0.206506</td><td>1.072051</td><td>0.236163</td><td>&hellip;</td><td>0.926112</td><td>-0.379664</td><td>-0.592541</td><td>-0.477368</td><td>-0.253349</td><td>-0.107517</td><td>0.997578</td><td>2.152448</td><td>2.205771</td><td>2.878811</td><td>-0.26689</td><td>-0.050457</td><td>0.55622</td><td>0.420717</td><td>0.600606</td><td>0.266141</td><td>0.177077</td><td>1.290427</td><td>0.496408</td><td>1.470844</td><td>2.492867</td><td>-0.25843</td><td>-0.302984</td><td>-0.286457</td><td>-0.167162</td><td>-0.369818</td><td>-0.12267</td><td>0.14018</td><td>0.030741</td><td>0.549792</td><td>0.924114</td><td>0.019603</td><td>&quot;90820&quot;</td><td>&quot;0&quot;</td><td>&quot;76561198058500492&quot;</td><td>0</td><td>&quot;90820_0_76561198058500492&quot;</td></tr><tr><td>27025</td><td>-0.610177</td><td>0.618069</td><td>0.37158</td><td>-0.064831</td><td>0.23539</td><td>0.333326</td><td>1.078241</td><td>0.763335</td><td>-0.087914</td><td>0.624003</td><td>0.587258</td><td>0.327591</td><td>-0.257389</td><td>0.088706</td><td>-0.358636</td><td>-0.366268</td><td>-0.069043</td><td>0.692129</td><td>-0.111196</td><td>-0.036368</td><td>-0.168484</td><td>1.807823</td><td>-0.159379</td><td>0.248397</td><td>-0.037276</td><td>-0.032139</td><td>0.142355</td><td>-0.560453</td><td>-0.267739</td><td>1.979721</td><td>-0.18246</td><td>0.520708</td><td>1.38946</td><td>-0.959126</td><td>-0.63402</td><td>-0.555376</td><td>&hellip;</td><td>-0.663062</td><td>-0.264567</td><td>-0.602625</td><td>-0.423584</td><td>-0.473817</td><td>-0.107517</td><td>-0.232612</td><td>-0.102182</td><td>-0.072703</td><td>0.326641</td><td>-0.26689</td><td>-0.341625</td><td>-0.70972</td><td>-0.586059</td><td>-0.56134</td><td>-0.887224</td><td>-0.352092</td><td>-0.461193</td><td>-0.42911</td><td>-0.30264</td><td>-0.625262</td><td>-0.25843</td><td>-0.302984</td><td>-0.286457</td><td>-0.167162</td><td>-0.369818</td><td>-0.437524</td><td>-0.599137</td><td>-0.540582</td><td>-0.392328</td><td>-0.664533</td><td>-0.626283</td><td>&quot;90820&quot;</td><td>&quot;0&quot;</td><td>&quot;76561198058500492&quot;</td><td>0</td><td>&quot;90820_0_76561198058500492&quot;</td></tr><tr><td>27026</td><td>1.96321</td><td>-0.380733</td><td>-0.438204</td><td>-0.084114</td><td>-0.467856</td><td>0.09047</td><td>-0.38868</td><td>-0.360189</td><td>-0.104842</td><td>-0.38315</td><td>0.24585</td><td>-0.577518</td><td>-0.63484</td><td>-0.140807</td><td>-0.668493</td><td>0.191591</td><td>-0.167005</td><td>0.199311</td><td>-0.116405</td><td>-0.181651</td><td>-0.191964</td><td>1.074783</td><td>-0.125332</td><td>0.515717</td><td>-0.037276</td><td>-0.032139</td><td>0.010133</td><td>-1.578661</td><td>-0.322687</td><td>0.841037</td><td>-0.198613</td><td>0.188889</td><td>0.734305</td><td>-0.46077</td><td>-0.31322</td><td>-0.435446</td><td>&hellip;</td><td>-0.663062</td><td>-0.578468</td><td>-1.005998</td><td>-0.800077</td><td>-0.657541</td><td>-1.144614</td><td>1.633883</td><td>0.514875</td><td>1.213533</td><td>-0.369406</td><td>-0.26689</td><td>0.199115</td><td>-0.272395</td><td>-0.010758</td><td>-0.335545</td><td>-0.310542</td><td>0.869069</td><td>0.977638</td><td>1.006388</td><td>0.652099</td><td>0.933803</td><td>-0.25843</td><td>-0.302984</td><td>-0.286457</td><td>-0.167162</td><td>-0.369818</td><td>-0.437524</td><td>-0.599137</td><td>-0.540582</td><td>-0.392328</td><td>-0.664533</td><td>-0.532105</td><td>&quot;90820&quot;</td><td>&quot;0&quot;</td><td>&quot;76561198058500492&quot;</td><td>0</td><td>&quot;90820_0_76561198058500492&quot;</td></tr><tr><td>27027</td><td>2.314127</td><td>-0.535676</td><td>-0.53502</td><td>-0.084137</td><td>-0.29429</td><td>-0.525045</td><td>-0.604756</td><td>-0.493828</td><td>-0.104842</td><td>-0.131121</td><td>-0.457724</td><td>-0.639624</td><td>-0.625706</td><td>-0.140807</td><td>-0.575536</td><td>0.146051</td><td>-0.191567</td><td>-0.175473</td><td>-0.108539</td><td>-0.081067</td><td>-0.137407</td><td>-0.265338</td><td>-0.13784</td><td>-0.12685</td><td>-0.037276</td><td>-0.032139</td><td>-0.045605</td><td>0.166873</td><td>-0.06329</td><td>-0.376249</td><td>-0.159877</td><td>-0.208959</td><td>-0.765657</td><td>0.090106</td><td>1.17268</td><td>-0.005253</td><td>&hellip;</td><td>0.131525</td><td>-0.02391</td><td>-0.471529</td><td>-0.229958</td><td>-0.657541</td><td>-0.626065</td><td>-0.147771</td><td>-0.102182</td><td>-0.029829</td><td>-0.19185</td><td>1.854969</td><td>-0.258434</td><td>1.292767</td><td>0.068345</td><td>0.748983</td><td>1.996189</td><td>-0.10786</td><td>0.758685</td><td>0.335859</td><td>0.951639</td><td>2.492867</td><td>0.180324</td><td>0.082195</td><td>0.136349</td><td>-0.167162</td><td>0.443393</td><td>-0.323031</td><td>-0.502178</td><td>-0.430447</td><td>-0.392328</td><td>0.129791</td><td>1.737322</td><td>&quot;90820&quot;</td><td>&quot;0&quot;</td><td>&quot;76561198058500492&quot;</td><td>0</td><td>&quot;90820_0_76561198058500492&quot;</td></tr></tbody></table></div>"
      ]
     },
     "execution_count": 164,
     "metadata": {},
     "output_type": "execute_result"
    }
   ],
   "execution_count": 164
  },
  {
   "metadata": {
    "ExecuteTime": {
     "end_time": "2025-03-13T20:33:55.294819Z",
     "start_time": "2025-03-13T20:33:54.639290Z"
    }
   },
   "cell_type": "code",
   "source": [
    "import numpy as np\n",
    "\n",
    "\n",
    "def random_batch(data: pl.DataFrame, n_players: int, n_samples: int):\n",
    "    x, y = [], []\n",
    "    df = random_sample(data, n_players=n_players, n_samples=n_samples)\n",
    "    groups = df.group_by(\"player_id\", \"sample_id\")\n",
    "    for (player_id, sample_id), group_df in groups:\n",
    "        group_df = (\n",
    "            group_df\n",
    "            # drop non-feature columns and convert to torch\n",
    "            .drop(\"match_id\", \"map_id\", \"player_id\", \"segment_id\", \"sample_id\")\n",
    "        )\n",
    "        tensor = group_df.to_torch().float().to(device)\n",
    "        tensor = torch.nan_to_num(tensor, 0.0)\n",
    "\n",
    "        x.append(tensor)\n",
    "        y.append(player_id)\n",
    "    y = np.array(y, dtype=int)\n",
    "    return x, y\n",
    "\n",
    "\n",
    "x, y = random_batch(train_data_scaled, n_players=8, n_samples=2)\n",
    "print(len(x), len(y))"
   ],
   "id": "7b5929c1dd0d95f7",
   "outputs": [
    {
     "name": "stdout",
     "output_type": "stream",
     "text": [
      "16 16\n"
     ]
    }
   ],
   "execution_count": 165
  },
  {
   "metadata": {
    "ExecuteTime": {
     "end_time": "2025-03-13T20:33:57.949861Z",
     "start_time": "2025-03-13T20:33:57.946203Z"
    }
   },
   "cell_type": "code",
   "source": [
    "from torch.nn.utils.rnn import pad_sequence, pack_padded_sequence\n",
    "import torch\n",
    "\n",
    "\n",
    "class PlayerEncoder(torch.nn.Module):\n",
    "    def __init__(self, input_size: int, lstm_size: int = 16, fc_size: int = 128, num_layers: int = 1,\n",
    "                 bidirectional: bool = False):\n",
    "        super().__init__()\n",
    "        self._num_lstm_layers = num_layers\n",
    "        self._bidirectional = bidirectional\n",
    "        self.lstm = torch.nn.LSTM(\n",
    "            input_size=input_size,\n",
    "            hidden_size=lstm_size,\n",
    "            num_layers=self._num_lstm_layers,\n",
    "            batch_first=True,\n",
    "            bidirectional=self._bidirectional,\n",
    "        )\n",
    "        self.fc = torch.nn.Linear(lstm_size * 2 * (2 if bidirectional else 1), fc_size)\n",
    "\n",
    "    def embedding(self, x):\n",
    "        _, (h, c) = self.lstm(x)\n",
    "        if self._bidirectional:\n",
    "            hf, cf = h[self._num_lstm_layers - 1], c[self._num_lstm_layers - 1]\n",
    "            hb, cb = h[-1], c[-1]\n",
    "            embedding = torch.cat([hf, cf, hb, cb], dim=-1)\n",
    "        else:\n",
    "            h, c = h[-1], c[-1]\n",
    "            embedding = torch.cat([h, c], dim=-1)\n",
    "        embedding = self.fc(embedding)\n",
    "        # embedding = torch.nn.functional.relu(embedding)\n",
    "\n",
    "        # normalize embedding\n",
    "        embedding = torch.nn.functional.normalize(embedding, p=2, dim=1)\n",
    "\n",
    "        return embedding\n",
    "\n",
    "    def forward(self, batch):\n",
    "        packed_sprays = self._pack_sprays(batch)\n",
    "        embedding = self.embedding(packed_sprays)\n",
    "        return embedding\n",
    "\n",
    "    @staticmethod\n",
    "    def _pack_sprays(batch):\n",
    "        lengths = torch.tensor([s.shape[0] for s in batch], dtype=torch.long)\n",
    "        padded_sprays = pad_sequence(batch, batch_first=True)\n",
    "        packed_sprays = pack_padded_sequence(padded_sprays, lengths, batch_first=True, enforce_sorted=False)\n",
    "        return packed_sprays"
   ],
   "id": "e37102d0239cf4b6",
   "outputs": [],
   "execution_count": 166
  },
  {
   "metadata": {
    "ExecuteTime": {
     "end_time": "2025-03-13T20:34:01.653020Z",
     "start_time": "2025-03-13T20:34:00.855954Z"
    }
   },
   "cell_type": "code",
   "source": [
    "model = PlayerEncoder(input_size=108).to(device)\n",
    "\n",
    "test_batch, _ = random_batch(train_data_scaled, n_players=8, n_samples=2)\n",
    "\n",
    "test_embeddings = model(test_batch)\n",
    "print(test_embeddings.shape)\n",
    "print(test_embeddings)"
   ],
   "id": "1528723a4a942d32",
   "outputs": [
    {
     "name": "stdout",
     "output_type": "stream",
     "text": [
      "torch.Size([16, 128])\n",
      "tensor([[-0.0414, -0.0827,  0.0132,  ...,  0.0710,  0.0524,  0.0841],\n",
      "        [-0.0600, -0.0818,  0.0796,  ...,  0.0615,  0.1033,  0.0081],\n",
      "        [-0.0816, -0.1002,  0.0891,  ..., -0.0452, -0.0537, -0.0043],\n",
      "        ...,\n",
      "        [-0.1306, -0.0121,  0.1836,  ...,  0.1121,  0.0749,  0.0799],\n",
      "        [-0.0768, -0.0981,  0.0866,  ..., -0.0434, -0.0628, -0.0206],\n",
      "        [ 0.0664,  0.0897, -0.1223,  ...,  0.0449, -0.1507,  0.0942]],\n",
      "       device='mps:0', grad_fn=<DivBackward0>)\n"
     ]
    }
   ],
   "execution_count": 167
  },
  {
   "metadata": {
    "ExecuteTime": {
     "end_time": "2025-03-13T20:34:03.851371Z",
     "start_time": "2025-03-13T20:34:03.844174Z"
    }
   },
   "cell_type": "code",
   "source": [
    "class TICLLoss(torch.nn.Module):\n",
    "    \"\"\"Triplet + Intra-CLuster Loss function.\"\"\"\n",
    "\n",
    "    def __init__(self, margin: float, p: float = 2.0, eps: float = 1e-7, lamda: float = 0.1):\n",
    "        super().__init__()\n",
    "        self._margin = margin\n",
    "        self._p = p\n",
    "        self._eps = eps\n",
    "        self._lamda = lamda\n",
    "        self._triplet_loss = torch.nn.TripletMarginLoss(margin=margin, p=p, eps=eps)\n",
    "\n",
    "    def forward(self, embeddings, labels):\n",
    "        triplets = self.mine_triplets(embeddings, labels)\n",
    "        if not triplets:\n",
    "            triplet_loss = 0\n",
    "        else:\n",
    "            anchor, positive, negative = triplets\n",
    "            anchor, positive, negative = embeddings[anchor], embeddings[positive], embeddings[negative]\n",
    "            triplet_loss = self._triplet_loss(anchor, positive, negative)\n",
    "        intra_cluster_loss = self._intra_cluster_loss(embeddings, labels)\n",
    "        return triplet_loss + (intra_cluster_loss * self._lamda)\n",
    "\n",
    "    # noinspection PyMethodMayBeStatic\n",
    "    def _intra_cluster_loss(self, embeddings, labels):\n",
    "        # Compute pairwise Euclidean distance between all embeddings in the batch\n",
    "        dist_matrix = torch.cdist(embeddings, embeddings, p=2)  # shape: (batch_size, batch_size)\n",
    "\n",
    "        # Create a mask that identifies the pairs belonging to the same class\n",
    "        same_class_mask = torch.from_numpy(labels[:, None] == labels[None, :]).to(device)\n",
    "\n",
    "        # Apply the mask to the distance matrix (only consider intra-class distances)\n",
    "        intra_class_distances = dist_matrix * same_class_mask.float()  # shape: (batch_size, batch_size)\n",
    "\n",
    "        # Sum up the pairwise distances for each class\n",
    "        loss = intra_class_distances.sum() / (same_class_mask.sum() + 1e-6)  # Normalize by the number of valid pairs\n",
    "        return loss\n",
    "\n",
    "    # noinspection PyMethodMayBeStatic\n",
    "    def mine_triplets(self, embeddings, labels):\n",
    "        labels = torch.tensor(labels.astype(int), device=device)\n",
    "        dist = torch.cdist(embeddings, embeddings, p=self._p)  # Compute all pairwise distances\n",
    "\n",
    "        # Mask for same-player pairs\n",
    "        same_player_mask = labels[:, None] == labels[None, :]\n",
    "        diff_player_mask = ~same_player_mask\n",
    "\n",
    "        # Remove self-comparisons\n",
    "        self_mask = torch.eye(len(labels), device=device, dtype=torch.bool)\n",
    "        same_player_mask &= ~self_mask\n",
    "\n",
    "        # Get hardest positives (closest among same-player samples)\n",
    "        positive_distances = dist.clone()\n",
    "        positive_distances[~same_player_mask] = float(\"inf\")  # Ignore non-positives\n",
    "        positive_indices = torch.argmin(positive_distances, dim=1)\n",
    "\n",
    "        # Get semi-hard negatives (hardest negative within margin)\n",
    "        negative_distances = dist.clone()\n",
    "        negative_distances[~diff_player_mask] = float(\"inf\")  # Ignore non-negatives\n",
    "\n",
    "        anchors = torch.arange(len(labels), device=device)\n",
    "        pos_distances = dist[anchors, positive_indices]  # d(a, p)\n",
    "\n",
    "        semi_hard_mask = (negative_distances > pos_distances[:, None]) & \\\n",
    "                         (negative_distances < pos_distances[:, None] + self._margin)\n",
    "\n",
    "        # Ensure at least one valid negative exists per anchor\n",
    "        has_valid_neg = semi_hard_mask.any(dim=1)\n",
    "\n",
    "        # Get hardest semi-hard negative per anchor\n",
    "        if has_valid_neg.any():\n",
    "            negative_distances[~semi_hard_mask] = float(\"inf\")\n",
    "            negative_indices = torch.argmin(negative_distances, dim=1)\n",
    "        else:\n",
    "            return None  # No valid triplets found\n",
    "\n",
    "        # Filter out samples where no valid negative was found\n",
    "        valid_triplets = has_valid_neg\n",
    "        if valid_triplets.sum() == 0:\n",
    "            return None  # No valid triplets found\n",
    "\n",
    "        anchor = anchors[valid_triplets]\n",
    "        positive = positive_indices[valid_triplets]\n",
    "        negative = negative_indices[valid_triplets]\n",
    "        return anchor, positive, negative"
   ],
   "id": "ad3ccadf71ec68",
   "outputs": [],
   "execution_count": 168
  },
  {
   "metadata": {
    "ExecuteTime": {
     "end_time": "2025-03-13T20:34:09.586638Z",
     "start_time": "2025-03-13T20:34:09.570459Z"
    }
   },
   "cell_type": "code",
   "source": [
    "from torch.utils.tensorboard import SummaryWriter\n",
    "\n",
    "model_params = {\n",
    "    \"input_size\": 108,\n",
    "    \"lstm_size\": 64,\n",
    "    \"fc_size\": 64,\n",
    "    \"num_layers\": 1,\n",
    "    \"bidirectional\": False,\n",
    "}\n",
    "model = PlayerEncoder(**model_params).to(device)\n",
    "epochs_trained = 0\n",
    "\n",
    "loss_params = {\n",
    "    \"margin\": 2,\n",
    "    \"p\": 2,\n",
    "    \"eps\": 1e-7,\n",
    "    \"lamda\": 0.1,\n",
    "}\n",
    "optimizer_params = {\n",
    "    \"lr\": 1e-2,\n",
    "}\n",
    "loss_fn = TICLLoss(**loss_params)\n",
    "optimizer = torch.optim.Adam(model.parameters(), **optimizer_params)\n",
    "\n",
    "writer = SummaryWriter()\n",
    "writer.add_text(\"model_params\", str(model_params))\n",
    "writer.add_text(\"loss_params\", str(loss_params))\n",
    "writer.add_text(\"optimizer_params\", str(optimizer_params))"
   ],
   "id": "216addb35f924d2f",
   "outputs": [],
   "execution_count": 169
  },
  {
   "metadata": {
    "ExecuteTime": {
     "end_time": "2025-03-13T20:34:25.811354Z",
     "start_time": "2025-03-13T20:34:25.807016Z"
    }
   },
   "cell_type": "code",
   "source": [
    "def train_epoch(n_batches: int, n_players: int, n_samples: int, summary_writer: SummaryWriter = None):\n",
    "    model.train()\n",
    "\n",
    "    avg_loss = 0.0\n",
    "\n",
    "    for batch in range(n_batches):\n",
    "        batch_features, labels = random_batch(train_data_scaled, n_players=n_players, n_samples=n_samples)\n",
    "\n",
    "        embeddings = model(batch_features)\n",
    "        loss = loss_fn(embeddings, labels)\n",
    "\n",
    "        avg_loss += loss.item()\n",
    "        optimizer.zero_grad()\n",
    "        loss.backward()\n",
    "        optimizer.step()\n",
    "\n",
    "        if summary_writer:\n",
    "            summary_writer.add_scalar(\"loss/train\", loss.item(), epochs_trained)\n",
    "\n",
    "    return avg_loss / n_batches\n",
    "\n",
    "\n",
    "def train(n_epochs: int, summary_writer: SummaryWriter = None):\n",
    "    global epochs_trained\n",
    "\n",
    "    for _ in range(n_epochs):\n",
    "        print(\"epoch\", epochs_trained)\n",
    "        loss = train_epoch(n_batches=32, n_players=24, n_samples=5, summary_writer=summary_writer)\n",
    "        epochs_trained += 1\n",
    "        print(loss)\n",
    "\n",
    "    if summary_writer:\n",
    "        writer.flush()"
   ],
   "id": "1557b8915d3c51f9",
   "outputs": [],
   "execution_count": 171
  },
  {
   "metadata": {
    "jupyter": {
     "is_executing": true
    },
    "ExecuteTime": {
     "start_time": "2025-03-13T20:34:26.555372Z"
    }
   },
   "cell_type": "code",
   "source": "train(100, summary_writer=writer)",
   "id": "b3fb5e7089178c1b",
   "outputs": [
    {
     "name": "stdout",
     "output_type": "stream",
     "text": [
      "epoch 0\n",
      "2.031255103647709\n",
      "epoch 1\n",
      "2.0051185339689255\n",
      "epoch 2\n",
      "1.9962454251945019\n",
      "epoch 3\n",
      "1.9442472979426384\n",
      "epoch 4\n",
      "1.8681245669722557\n",
      "epoch 5\n"
     ]
    }
   ],
   "execution_count": null
  },
  {
   "metadata": {
    "ExecuteTime": {
     "end_time": "2025-03-11T23:21:39.611772Z",
     "start_time": "2025-03-11T23:21:39.600095Z"
    }
   },
   "cell_type": "code",
   "source": "torch.save(model.state_dict(), \"5mnk-model-128d.pth\")",
   "id": "a881e3cdc255e7f6",
   "outputs": [],
   "execution_count": 26
  },
  {
   "metadata": {
    "ExecuteTime": {
     "end_time": "2025-03-11T23:21:40.247868Z",
     "start_time": "2025-03-11T23:21:40.239165Z"
    }
   },
   "cell_type": "code",
   "source": "model.load_state_dict(torch.load(\"./5mnk-model-128d.pth\", weights_only=True))",
   "id": "3962cc02a7d70bb3",
   "outputs": [
    {
     "data": {
      "text/plain": [
       "<All keys matched successfully>"
      ]
     },
     "execution_count": 27,
     "metadata": {},
     "output_type": "execute_result"
    }
   ],
   "execution_count": 27
  },
  {
   "metadata": {
    "ExecuteTime": {
     "end_time": "2025-03-12T20:35:27.197847Z",
     "start_time": "2025-03-12T20:35:26.680400Z"
    }
   },
   "cell_type": "code",
   "source": [
    "from sklearn.manifold import TSNE\n",
    "\n",
    "\n",
    "def plot_embeddings(embeddings, labels):\n",
    "    # Convert string labels to unique numeric indices\n",
    "    unique_labels = np.unique(labels)  # Get unique label names\n",
    "    label_to_index = {label: idx for idx, label in enumerate(unique_labels)}\n",
    "    label_indices = np.array([label_to_index[label] for label in labels])\n",
    "\n",
    "    # Generate distinct colors\n",
    "    cmap = plt.get_cmap(\"Set1\", len(unique_labels))\n",
    "    colors = [cmap(idx) for idx in label_indices]  # Assign colors based on indices\n",
    "\n",
    "    plt.figure(figsize=(8, 6))\n",
    "    plt.scatter(embeddings[:, 0], embeddings[:, 1], c=colors, marker=\"o\")\n",
    "\n",
    "    # Add legend\n",
    "    # handles = [plt.Line2D([0], [0], marker='o', color='w', markerfacecolor=cmap(i), markersize=8)\n",
    "    #            for i in range(len(unique_labels))]\n",
    "    # plt.legend(handles, unique_labels, title=\"Player IDs\")\n",
    "    plt.show()\n",
    "\n",
    "\n",
    "test_features, test_labels = random_batch(test_data_scaled, n_samples=2, n_players=4)\n",
    "\n",
    "model.eval()\n",
    "test_embeddings = model(test_features).cpu().detach().numpy()\n",
    "# print(test_embeddings)\n",
    "\n",
    "tsne = TSNE(n_components=2, random_state=0, perplexity=3)\n",
    "tsne_embeddings = tsne.fit_transform(test_embeddings)\n",
    "\n",
    "plot_embeddings(tsne_embeddings, test_labels)"
   ],
   "id": "9f41d18ba8fac92e",
   "outputs": [
    {
     "data": {
      "text/plain": [
       "<Figure size 800x600 with 1 Axes>"
      ],
      "image/png": "[encoded data removed]"
     },
     "metadata": {},
     "output_type": "display_data"
    }
   ],
   "execution_count": 81
  },
  {
   "metadata": {
    "ExecuteTime": {
     "end_time": "2025-03-12T16:57:31.209267Z",
     "start_time": "2025-03-12T16:57:31.206480Z"
    }
   },
   "cell_type": "code",
   "source": [
    "def all_samples(data):\n",
    "    groups = data.group_by([\"sample_id\"])\n",
    "    tensors = [\n",
    "        (\n",
    "            group\n",
    "            # drop non-feature columns and convert to torch\n",
    "            .drop(\"player_id\", \"match_id\", \"map_id\", \"player_id\", \"segment_id\", \"sample_id\")\n",
    "            .to_torch()\n",
    "            .float()\n",
    "            .to(device)\n",
    "        )\n",
    "        for _, group in groups\n",
    "    ]\n",
    "    # fill nan columns\n",
    "    tensors = [torch.nan_to_num(tensor, 0.0) for tensor in tensors]\n",
    "    labels = [group.select(\"player_id\").to_series().first() for _, group in groups]\n",
    "    labels = np.array(labels)\n",
    "    return tensors, labels"
   ],
   "id": "ae82f57e69436c3e",
   "outputs": [],
   "execution_count": 73
  },
  {
   "metadata": {
    "ExecuteTime": {
     "end_time": "2025-03-12T16:57:34.254504Z",
     "start_time": "2025-03-12T16:57:32.970496Z"
    }
   },
   "cell_type": "code",
   "source": [
    "model.eval()\n",
    "\n",
    "# get train embeddings\n",
    "features, train_labels = all_samples(train_data_scaled)\n",
    "train_embeddings = []\n",
    "for batch_idx in range(0, len(features), 64):\n",
    "    train_embeddings.extend(model(features[batch_idx:batch_idx + 64]).cpu().detach().numpy())\n",
    "\n",
    "# get test embeddings\n",
    "features, test_labels = all_samples(test_data_scaled)\n",
    "test_embeddings = []\n",
    "for batch_idx in range(0, len(features), 64):\n",
    "    test_embeddings.extend(model(features[batch_idx:batch_idx + 64]).cpu().detach().numpy())\n",
    "\n",
    "all_embeddings = np.concat([train_embeddings, test_embeddings])\n",
    "all_labels = np.concatenate([train_labels, test_labels])"
   ],
   "id": "3a6c416c2c94a823",
   "outputs": [],
   "execution_count": 74
  },
  {
   "metadata": {
    "ExecuteTime": {
     "end_time": "2025-03-12T16:57:35.825310Z",
     "start_time": "2025-03-12T16:57:35.270506Z"
    }
   },
   "cell_type": "code",
   "source": [
    "tsne = TSNE(n_components=2, random_state=0, perplexity=2)\n",
    "tsne_embeddings = tsne.fit_transform(np.array(train_embeddings))\n",
    "plot_embeddings(tsne_embeddings, train_labels)"
   ],
   "id": "8e1d063a8adb3106",
   "outputs": [
    {
     "data": {
      "text/plain": [
       "<Figure size 800x600 with 1 Axes>"
      ],
      "image/png": "[encoded data removed]"
     },
     "metadata": {},
     "output_type": "display_data"
    }
   ],
   "execution_count": 75
  },
  {
   "metadata": {
    "ExecuteTime": {
     "end_time": "2025-03-12T16:57:38.253145Z",
     "start_time": "2025-03-12T16:57:38.158226Z"
    }
   },
   "cell_type": "code",
   "source": [
    "import pandas as pd\n",
    "from sklearn.cluster import DBSCAN, KMeans\n",
    "from scipy.stats import entropy\n",
    "\n",
    "kmeans = KMeans(n_clusters=84)\n",
    "# dbscan = DBSCAN(eps=0.2, min_samples=40)\n",
    "# dbscan_labels = dbscan.fit_predict(all_embeddings)\n",
    "cluster_labels = kmeans.fit_predict(all_embeddings)\n",
    "\n",
    "\n",
    "def confusion_matrix(left, right):\n",
    "    left_map = {label: i for i, label in enumerate(np.unique(left))}\n",
    "    right_map = {label: i for i, label in enumerate(np.unique(right))}\n",
    "    cm = np.zeros(shape=(len(left_map.keys()), len(right_map.keys())), dtype=int)\n",
    "    for l, r in zip(left, right):\n",
    "        l_idx = left_map[l]\n",
    "        r_idx = right_map[r]\n",
    "        cm[l_idx, r_idx] += 1\n",
    "    cm = pd.DataFrame(cm, index=left_map.keys(), columns=right_map.keys())\n",
    "    return cm\n",
    "\n",
    "\n",
    "cm = confusion_matrix(all_labels, cluster_labels)\n",
    "entropy(cm, axis=1)"
   ],
   "id": "ca99a283935fb51d",
   "outputs": [
    {
     "data": {
      "text/plain": [
       "array([1.60943791, 1.38629436, 1.38629436, 1.38629436, 1.09861229,\n",
       "       1.09861229, 1.09861229, 1.33217904, 0.63651417, 1.09861229,\n",
       "       1.09861229, 1.09861229, 1.09861229, 1.38629436, 1.38629436,\n",
       "       1.38629436, 1.09861229, 1.09861229, 1.09861229, 1.56071041,\n",
       "       1.38629436, 1.09861229, 1.09861229, 1.03972077, 1.60943791,\n",
       "       1.09861229, 1.09861229, 1.09861229, 1.60943791, 1.09861229,\n",
       "       1.38629436, 1.09861229, 1.38629436, 1.09861229, 1.38629436,\n",
       "       1.56071041, 1.38629436, 1.09861229, 1.09861229, 1.38629436,\n",
       "       1.60943791, 1.09861229, 1.09861229, 1.09861229, 1.09861229,\n",
       "       1.38629436, 1.09861229, 1.09861229, 1.38629436, 1.09861229,\n",
       "       1.38629436, 1.38629436, 1.03972077, 1.33217904, 1.09861229,\n",
       "       1.38629436, 1.38629436, 1.38629436, 1.09861229, 1.09861229,\n",
       "       1.09861229, 1.09861229, 1.09861229, 1.09861229, 1.38629436,\n",
       "       1.38629436, 1.03972077, 1.38629436, 1.38629436, 1.09861229,\n",
       "       1.09861229, 1.38629436, 1.09861229, 1.09861229, 1.09861229,\n",
       "       1.09861229, 1.38629436, 1.38629436, 1.09861229, 1.09861229,\n",
       "       1.38629436, 0.63651417, 1.09861229, 1.09861229, 1.09861229,\n",
       "       1.38629436, 1.38629436, 1.94591015, 1.09861229, 1.38629436,\n",
       "       1.09861229, 1.09861229, 1.09861229, 1.09861229, 1.38629436,\n",
       "       1.79175947, 1.09861229, 1.79175947, 1.09861229, 1.09861229])"
      ]
     },
     "execution_count": 76,
     "metadata": {},
     "output_type": "execute_result"
    }
   ],
   "execution_count": 76
  },
  {
   "metadata": {
    "ExecuteTime": {
     "end_time": "2025-03-12T16:57:41.536028Z",
     "start_time": "2025-03-12T16:57:41.527600Z"
    }
   },
   "cell_type": "code",
   "source": [
    "from sklearn.metrics import silhouette_score\n",
    "\n",
    "print(\"silhouette scores\")\n",
    "train_silhouette_score = silhouette_score(train_embeddings, train_labels)\n",
    "print(\"train:\", train_silhouette_score)\n",
    "test_silhouette_score = silhouette_score(test_embeddings, test_labels)\n",
    "print(\"test: \", test_silhouette_score)\n",
    "all_silhouette_score = silhouette_score(all_embeddings, all_labels)\n",
    "print(\"all:  \", all_silhouette_score)"
   ],
   "id": "b015f8eeaa36bfc8",
   "outputs": [
    {
     "name": "stdout",
     "output_type": "stream",
     "text": [
      "silhouette scores\n",
      "train: -0.3095947\n",
      "test:  -0.118826106\n",
      "all:   -0.2804454\n"
     ]
    }
   ],
   "execution_count": 77
  },
  {
   "metadata": {
    "ExecuteTime": {
     "end_time": "2025-03-12T16:57:46.929275Z",
     "start_time": "2025-03-12T16:57:46.916697Z"
    }
   },
   "cell_type": "code",
   "source": [
    "from sklearn.metrics import accuracy_score, classification_report\n",
    "from sklearn.neighbors import RadiusNeighborsClassifier, KNeighborsClassifier\n",
    "\n",
    "# clf = RadiusNeighborsClassifier(radius=1, metric=\"euclidean\", outlier_label=\"0\")\n",
    "clf = KNeighborsClassifier(n_neighbors=5)\n",
    "clf.fit(all_embeddings, all_labels)\n",
    "\n",
    "pred = clf.predict(all_embeddings)\n",
    "accuracy = accuracy_score(all_labels, pred)\n",
    "print(accuracy)\n",
    "print(classification_report(all_labels, pred, zero_division=0))"
   ],
   "id": "ee82bd4ef421d2c2",
   "outputs": [
    {
     "name": "stdout",
     "output_type": "stream",
     "text": [
      "0.20441988950276244\n",
      "                   precision    recall  f1-score   support\n",
      "\n",
      "76561197960690195       0.19      0.60      0.29         5\n",
      "76561197961491680       0.25      1.00      0.40         4\n",
      "76561197980122997       0.13      1.00      0.23         4\n",
      "76561197981355847       0.22      0.50      0.31         4\n",
      "76561197983031494       0.17      0.67      0.27         3\n",
      "76561197983772557       0.20      0.67      0.31         3\n",
      "76561197989430253       0.16      1.00      0.27         3\n",
      "76561197990140855       0.31      0.80      0.44         5\n",
      "76561197990793708       0.22      0.67      0.33         3\n",
      "76561197991272318       0.27      1.00      0.43         3\n",
      "76561197996370184       0.33      0.67      0.44         3\n",
      "76561197997351207       0.00      0.00      0.00         3\n",
      "76561198002775202       0.00      0.00      0.00         3\n",
      "76561198015308884       0.20      0.50      0.29         4\n",
      "76561198022284035       0.22      0.50      0.31         4\n",
      "76561198029235071       0.08      0.50      0.14         4\n",
      "76561198031890115       0.00      0.00      0.00         3\n",
      "76561198039334036       0.00      0.00      0.00         3\n",
      "76561198045739761       0.12      0.33      0.18         3\n",
      "76561198045898864       0.25      0.67      0.36         6\n",
      "76561198047669167       0.17      0.25      0.20         4\n",
      "76561198047829655       0.33      0.33      0.33         3\n",
      "76561198047876970       0.12      0.67      0.21         3\n",
      "76561198052354821       0.10      0.50      0.17         4\n",
      "76561198058500492       0.20      0.40      0.27         5\n",
      "76561198062114681       0.00      0.00      0.00         3\n",
      "76561198063270179       0.00      0.00      0.00         3\n",
      "76561198066001146       0.00      0.00      0.00         3\n",
      "76561198067763828       0.25      0.40      0.31         5\n",
      "76561198068422762       0.00      0.00      0.00         3\n",
      "76561198070199303       0.20      0.25      0.22         4\n",
      "76561198070540608       0.20      0.33      0.25         3\n",
      "76561198074017668       0.33      0.25      0.29         4\n",
      "76561198074762801       0.00      0.00      0.00         3\n",
      "76561198078771373       0.00      0.00      0.00         4\n",
      "76561198081484775       0.33      0.33      0.33         6\n",
      "76561198095207206       0.22      0.50      0.31         4\n",
      "76561198103921828       0.00      0.00      0.00         3\n",
      "76561198116899423       0.25      0.67      0.36         3\n",
      "76561198118196092       0.00      0.00      0.00         4\n",
      "76561198118646644       0.33      0.40      0.36         5\n",
      "76561198125891049       0.00      0.00      0.00         3\n",
      "76561198129084615       0.25      0.67      0.36         3\n",
      "76561198131702527       0.20      0.33      0.25         3\n",
      "76561198139039223       0.33      0.33      0.33         3\n",
      "76561198139604328       0.00      0.00      0.00         4\n",
      "76561198146202997       0.00      0.00      0.00         3\n",
      "76561198152378187       0.00      0.00      0.00         3\n",
      "76561198153580037       0.00      0.00      0.00         4\n",
      "76561198154904607       0.00      0.00      0.00         3\n",
      "76561198160794709       0.00      0.00      0.00         4\n",
      "76561198161245944       0.00      0.00      0.00         4\n",
      "76561198162408395       0.00      0.00      0.00         4\n",
      "76561198164970560       0.67      0.40      0.50         5\n",
      "76561198168198200       0.00      0.00      0.00         3\n",
      "76561198168694063       0.00      0.00      0.00         4\n",
      "76561198170631091       0.00      0.00      0.00         4\n",
      "76561198172837021       0.00      0.00      0.00         4\n",
      "76561198179538505       0.00      0.00      0.00         3\n",
      "76561198180031910       0.00      0.00      0.00         3\n",
      "76561198183147407       0.00      0.00      0.00         3\n",
      "76561198184979557       0.00      0.00      0.00         3\n",
      "76561198191616018       0.00      0.00      0.00         3\n",
      "76561198201620490       0.00      0.00      0.00         3\n",
      "76561198219516767       0.00      0.00      0.00         4\n",
      "76561198228964552       0.00      0.00      0.00         4\n",
      "76561198252978435       0.50      0.50      0.50         4\n",
      "76561198258044780       0.00      0.00      0.00         4\n",
      "76561198259727379       0.00      0.00      0.00         4\n",
      "76561198264908815       0.00      0.00      0.00         3\n",
      "76561198266290430       0.00      0.00      0.00         3\n",
      "76561198287546191       0.00      0.00      0.00         4\n",
      "76561198289727923       0.00      0.00      0.00         3\n",
      "76561198307171910       0.00      0.00      0.00         3\n",
      "76561198309154935       0.00      0.00      0.00         3\n",
      "76561198324713828       0.00      0.00      0.00         3\n",
      "76561198336814871       0.00      0.00      0.00         4\n",
      "76561198339361458       0.00      0.00      0.00         4\n",
      "76561198339808699       0.00      0.00      0.00         3\n",
      "76561198348255383       0.00      0.00      0.00         3\n",
      "76561198350342505       0.00      0.00      0.00         4\n",
      "76561198350362302       0.40      0.67      0.50         3\n",
      "76561198365018206       0.00      0.00      0.00         3\n",
      "76561198365118288       0.00      0.00      0.00         3\n",
      "76561198371036559       0.00      0.00      0.00         3\n",
      "76561198377335846       0.00      0.00      0.00         4\n",
      "76561198385657675       0.00      0.00      0.00         4\n",
      "76561198386265483       0.00      0.00      0.00         7\n",
      "76561198400646282       0.00      0.00      0.00         3\n",
      "76561198798935520       0.00      0.00      0.00         4\n",
      "76561198800209567       0.00      0.00      0.00         3\n",
      "76561198809859276       0.00      0.00      0.00         3\n",
      "76561198811869293       0.00      0.00      0.00         3\n",
      "76561198859428279       0.00      0.00      0.00         3\n",
      "76561198860760060       0.00      0.00      0.00         4\n",
      "76561198995880877       1.00      0.17      0.29         6\n",
      "76561198997830784       0.00      0.00      0.00         3\n",
      "76561199063238565       0.00      0.00      0.00         6\n",
      "76561199076411361       0.00      0.00      0.00         3\n",
      "76561199116709063       0.00      0.00      0.00         3\n",
      "\n",
      "         accuracy                           0.20       362\n",
      "        macro avg       0.10      0.19      0.11       362\n",
      "     weighted avg       0.11      0.20      0.12       362\n",
      "\n"
     ]
    }
   ],
   "execution_count": 78
  },
  {
   "metadata": {
    "ExecuteTime": {
     "end_time": "2025-03-12T16:57:50.614556Z",
     "start_time": "2025-03-12T16:57:50.603818Z"
    }
   },
   "cell_type": "code",
   "source": [
    "pred = clf.predict(test_embeddings)\n",
    "accuracy = accuracy_score(test_labels, pred)\n",
    "print(accuracy)\n",
    "print(classification_report(test_labels, pred, zero_division=0))"
   ],
   "id": "29059077d7eb0823",
   "outputs": [
    {
     "name": "stdout",
     "output_type": "stream",
     "text": [
      "0.2191780821917808\n",
      "                   precision    recall  f1-score   support\n",
      "\n",
      "76561197960690195       0.00      0.00      0.00         0\n",
      "76561197961491680       0.00      0.00      0.00         0\n",
      "76561197980122997       0.50      1.00      0.67         4\n",
      "76561197981355847       0.00      0.00      0.00         0\n",
      "76561197983031494       0.00      0.00      0.00         0\n",
      "76561197983772557       0.00      0.00      0.00         0\n",
      "76561197989430253       0.00      0.00      0.00         0\n",
      "76561197990140855       0.00      0.00      0.00         0\n",
      "76561197990793708       0.00      0.00      0.00         0\n",
      "76561197996370184       0.67      0.67      0.67         3\n",
      "76561198015308884       0.00      0.00      0.00         0\n",
      "76561198022284035       0.00      0.00      0.00         0\n",
      "76561198029235071       0.67      0.50      0.57         4\n",
      "76561198039334036       0.00      0.00      0.00         0\n",
      "76561198045739761       0.25      0.33      0.29         3\n",
      "76561198045898864       0.00      0.00      0.00         0\n",
      "76561198047876970       1.00      0.67      0.80         3\n",
      "76561198052354821       1.00      0.50      0.67         4\n",
      "76561198058500492       0.00      0.00      0.00         0\n",
      "76561198063270179       0.00      0.00      0.00         3\n",
      "76561198067763828       0.00      0.00      0.00         0\n",
      "76561198068422762       0.00      0.00      0.00         0\n",
      "76561198070199303       0.00      0.00      0.00         0\n",
      "76561198070540608       0.00      0.00      0.00         0\n",
      "76561198081484775       0.00      0.00      0.00         0\n",
      "76561198095207206       0.00      0.00      0.00         0\n",
      "76561198118196092       0.00      0.00      0.00         4\n",
      "76561198118646644       1.00      0.40      0.57         5\n",
      "76561198131702527       0.00      0.00      0.00         0\n",
      "76561198139604328       0.00      0.00      0.00         0\n",
      "76561198162408395       0.00      0.00      0.00         4\n",
      "76561198184979557       0.00      0.00      0.00         3\n",
      "76561198219516767       0.00      0.00      0.00         4\n",
      "76561198259727379       0.00      0.00      0.00         4\n",
      "76561198264908815       0.00      0.00      0.00         3\n",
      "76561198307171910       0.00      0.00      0.00         3\n",
      "76561198309154935       0.00      0.00      0.00         3\n",
      "76561198350342505       0.00      0.00      0.00         4\n",
      "76561198350362302       0.00      0.00      0.00         0\n",
      "76561198365118288       0.00      0.00      0.00         3\n",
      "76561198859428279       0.00      0.00      0.00         3\n",
      "76561198995880877       1.00      0.17      0.29         6\n",
      "\n",
      "         accuracy                           0.22        73\n",
      "        macro avg       0.14      0.10      0.11        73\n",
      "     weighted avg       0.35      0.22      0.24        73\n",
      "\n"
     ]
    }
   ],
   "execution_count": 79
  },
  {
   "metadata": {
    "ExecuteTime": {
     "end_time": "2025-03-12T16:57:53.408569Z",
     "start_time": "2025-03-12T16:57:53.394517Z"
    }
   },
   "cell_type": "code",
   "source": [
    "pred = clf.predict(train_embeddings)\n",
    "accuracy = accuracy_score(train_labels, pred)\n",
    "print(accuracy)\n",
    "print(classification_report(train_labels, pred, zero_division=0))"
   ],
   "id": "17c40fbe573aa33e",
   "outputs": [
    {
     "name": "stdout",
     "output_type": "stream",
     "text": [
      "0.20069204152249134\n",
      "                   precision    recall  f1-score   support\n",
      "\n",
      "76561197960690195       0.27      0.60      0.38         5\n",
      "76561197961491680       0.31      1.00      0.47         4\n",
      "76561197980122997       0.00      0.00      0.00         0\n",
      "76561197981355847       0.25      0.50      0.33         4\n",
      "76561197983031494       0.18      0.67      0.29         3\n",
      "76561197983772557       0.29      0.67      0.40         3\n",
      "76561197989430253       0.21      1.00      0.35         3\n",
      "76561197990140855       0.36      0.80      0.50         5\n",
      "76561197990793708       0.33      0.67      0.44         3\n",
      "76561197991272318       0.27      1.00      0.43         3\n",
      "76561197996370184       0.00      0.00      0.00         0\n",
      "76561197997351207       0.00      0.00      0.00         3\n",
      "76561198002775202       0.00      0.00      0.00         3\n",
      "76561198015308884       0.22      0.50      0.31         4\n",
      "76561198022284035       0.29      0.50      0.36         4\n",
      "76561198029235071       0.00      0.00      0.00         0\n",
      "76561198031890115       0.00      0.00      0.00         3\n",
      "76561198039334036       0.00      0.00      0.00         3\n",
      "76561198045739761       0.00      0.00      0.00         0\n",
      "76561198045898864       0.33      0.67      0.44         6\n",
      "76561198047669167       0.17      0.25      0.20         4\n",
      "76561198047829655       0.33      0.33      0.33         3\n",
      "76561198047876970       0.00      0.00      0.00         0\n",
      "76561198052354821       0.00      0.00      0.00         0\n",
      "76561198058500492       0.29      0.40      0.33         5\n",
      "76561198062114681       0.00      0.00      0.00         3\n",
      "76561198066001146       0.00      0.00      0.00         3\n",
      "76561198067763828       0.29      0.40      0.33         5\n",
      "76561198068422762       0.00      0.00      0.00         3\n",
      "76561198070199303       0.33      0.25      0.29         4\n",
      "76561198070540608       0.25      0.33      0.29         3\n",
      "76561198074017668       0.33      0.25      0.29         4\n",
      "76561198074762801       0.00      0.00      0.00         3\n",
      "76561198078771373       0.00      0.00      0.00         4\n",
      "76561198081484775       0.40      0.33      0.36         6\n",
      "76561198095207206       0.29      0.50      0.36         4\n",
      "76561198103921828       0.00      0.00      0.00         3\n",
      "76561198116899423       0.25      0.67      0.36         3\n",
      "76561198118196092       0.00      0.00      0.00         0\n",
      "76561198118646644       0.00      0.00      0.00         0\n",
      "76561198125891049       0.00      0.00      0.00         3\n",
      "76561198129084615       0.25      0.67      0.36         3\n",
      "76561198131702527       0.33      0.33      0.33         3\n",
      "76561198139039223       0.33      0.33      0.33         3\n",
      "76561198139604328       0.00      0.00      0.00         4\n",
      "76561198146202997       0.00      0.00      0.00         3\n",
      "76561198152378187       0.00      0.00      0.00         3\n",
      "76561198153580037       0.00      0.00      0.00         4\n",
      "76561198154904607       0.00      0.00      0.00         3\n",
      "76561198160794709       0.00      0.00      0.00         4\n",
      "76561198161245944       0.00      0.00      0.00         4\n",
      "76561198164970560       0.67      0.40      0.50         5\n",
      "76561198168198200       0.00      0.00      0.00         3\n",
      "76561198168694063       0.00      0.00      0.00         4\n",
      "76561198170631091       0.00      0.00      0.00         4\n",
      "76561198172837021       0.00      0.00      0.00         4\n",
      "76561198179538505       0.00      0.00      0.00         3\n",
      "76561198180031910       0.00      0.00      0.00         3\n",
      "76561198183147407       0.00      0.00      0.00         3\n",
      "76561198191616018       0.00      0.00      0.00         3\n",
      "76561198201620490       0.00      0.00      0.00         3\n",
      "76561198228964552       0.00      0.00      0.00         4\n",
      "76561198252978435       0.50      0.50      0.50         4\n",
      "76561198258044780       0.00      0.00      0.00         4\n",
      "76561198266290430       0.00      0.00      0.00         3\n",
      "76561198287546191       0.00      0.00      0.00         4\n",
      "76561198289727923       0.00      0.00      0.00         3\n",
      "76561198324713828       0.00      0.00      0.00         3\n",
      "76561198336814871       0.00      0.00      0.00         4\n",
      "76561198339361458       0.00      0.00      0.00         4\n",
      "76561198339808699       0.00      0.00      0.00         3\n",
      "76561198348255383       0.00      0.00      0.00         3\n",
      "76561198350362302       0.50      0.67      0.57         3\n",
      "76561198365018206       0.00      0.00      0.00         3\n",
      "76561198371036559       0.00      0.00      0.00         3\n",
      "76561198377335846       0.00      0.00      0.00         4\n",
      "76561198385657675       0.00      0.00      0.00         4\n",
      "76561198386265483       0.00      0.00      0.00         7\n",
      "76561198400646282       0.00      0.00      0.00         3\n",
      "76561198798935520       0.00      0.00      0.00         4\n",
      "76561198800209567       0.00      0.00      0.00         3\n",
      "76561198809859276       0.00      0.00      0.00         3\n",
      "76561198811869293       0.00      0.00      0.00         3\n",
      "76561198860760060       0.00      0.00      0.00         4\n",
      "76561198997830784       0.00      0.00      0.00         3\n",
      "76561199063238565       0.00      0.00      0.00         6\n",
      "76561199076411361       0.00      0.00      0.00         3\n",
      "76561199116709063       0.00      0.00      0.00         3\n",
      "\n",
      "         accuracy                           0.20       289\n",
      "        macro avg       0.10      0.17      0.12       289\n",
      "     weighted avg       0.12      0.20      0.14       289\n",
      "\n"
     ]
    }
   ],
   "execution_count": 80
  },
  {
   "metadata": {
    "ExecuteTime": {
     "end_time": "2025-03-11T19:46:20.480982Z",
     "start_time": "2025-03-11T19:46:20.477938Z"
    }
   },
   "cell_type": "code",
   "source": [
    "np.save(\"./res/embeddings/embeddings.npy\", all_embeddings)\n",
    "np.save(\"./res/embeddings/labels.npy\", all_labels)"
   ],
   "id": "8665db1fa0c360a2",
   "outputs": [],
   "execution_count": 154
  }
 ],
 "metadata": {
  "kernelspec": {
   "display_name": "Python 3",
   "language": "python",
   "name": "python3"
  },
  "language_info": {
   "codemirror_mode": {
    "name": "ipython",
    "version": 2
   },
   "file_extension": ".py",
   "mimetype": "text/x-python",
   "name": "python",
   "nbconvert_exporter": "python",
   "pygments_lexer": "ipython2",
   "version": "2.7.6"
  }
 },
 "nbformat": 4,
 "nbformat_minor": 5
}
